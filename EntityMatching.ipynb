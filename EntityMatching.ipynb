{
  "nbformat": 4,
  "nbformat_minor": 0,
  "metadata": {
    "accelerator": "GPU",
    "colab": {
      "name": "EntityMatching.ipynb",
      "provenance": [],
      "collapsed_sections": [],
      "toc_visible": true,
      "machine_shape": "hm",
      "include_colab_link": true
    },
    "kernelspec": {
      "display_name": "Python 3",
      "language": "python",
      "name": "python3"
    },
    "language_info": {
      "codemirror_mode": {
        "name": "ipython",
        "version": 3
      },
      "file_extension": ".py",
      "mimetype": "text/x-python",
      "name": "python",
      "nbconvert_exporter": "python",
      "pygments_lexer": "ipython3",
      "version": "3.6.3"
    }
  },
  "cells": [
    {
      "cell_type": "markdown",
      "metadata": {
        "id": "view-in-github",
        "colab_type": "text"
      },
      "source": [
        "<a href=\"https://colab.research.google.com/github/SLane35/EntityMatching/blob/master/EntityMatching.ipynb\" target=\"_parent\"><img src=\"https://colab.research.google.com/assets/colab-badge.svg\" alt=\"Open In Colab\"/></a>"
      ]
    },
    {
      "cell_type": "markdown",
      "metadata": {
        "colab_type": "text",
        "id": "jga6e0ep6tMb"
      },
      "source": [
        ""
      ]
    },
    {
      "cell_type": "code",
      "metadata": {
        "colab_type": "code",
        "id": "cU6Atk4lwJf9",
        "colab": {
          "base_uri": "https://localhost:8080/",
          "height": 697
        },
        "outputId": "8f0e0dd1-171d-4dfd-8177-b33d5a0a3082"
      },
      "source": [
        "try:\n",
        "    import deepmatcher\n",
        "except:\n",
        "    !pip install git+https://github.com/anhaidgroup/deepmatcher.git\n"
      ],
      "execution_count": null,
      "outputs": [
        {
          "output_type": "stream",
          "text": [
            "Collecting git+https://github.com/anhaidgroup/deepmatcher.git\n",
            "  Cloning https://github.com/anhaidgroup/deepmatcher.git to /tmp/pip-req-build-f1cyth9g\n",
            "  Running command git clone -q https://github.com/anhaidgroup/deepmatcher.git /tmp/pip-req-build-f1cyth9g\n",
            "Requirement already satisfied: torch>=1.0 in /usr/local/lib/python3.6/dist-packages (from deepmatcher==0.1.1) (1.6.0+cu101)\n",
            "Requirement already satisfied: tqdm in /usr/local/lib/python3.6/dist-packages (from deepmatcher==0.1.1) (4.41.1)\n",
            "Collecting pyprind\n",
            "  Downloading https://files.pythonhosted.org/packages/1e/30/e76fb0c45da8aef49ea8d2a90d4e7a6877b45894c25f12fb961f009a891e/PyPrind-2.11.2-py3-none-any.whl\n",
            "Requirement already satisfied: six in /usr/local/lib/python3.6/dist-packages (from deepmatcher==0.1.1) (1.15.0)\n",
            "Requirement already satisfied: Cython in /usr/local/lib/python3.6/dist-packages (from deepmatcher==0.1.1) (0.29.21)\n",
            "Requirement already satisfied: torchtext in /usr/local/lib/python3.6/dist-packages (from deepmatcher==0.1.1) (0.3.1)\n",
            "Requirement already satisfied: nltk>=3.2.5 in /usr/local/lib/python3.6/dist-packages (from deepmatcher==0.1.1) (3.2.5)\n",
            "Collecting fasttext\n",
            "\u001b[?25l  Downloading https://files.pythonhosted.org/packages/f8/85/e2b368ab6d3528827b147fdb814f8189acc981a4bc2f99ab894650e05c40/fasttext-0.9.2.tar.gz (68kB)\n",
            "\u001b[K     |████████████████████████████████| 71kB 2.5MB/s \n",
            "\u001b[?25hRequirement already satisfied: pandas in /usr/local/lib/python3.6/dist-packages (from deepmatcher==0.1.1) (1.0.5)\n",
            "Requirement already satisfied: dill in /usr/local/lib/python3.6/dist-packages (from deepmatcher==0.1.1) (0.3.2)\n",
            "Requirement already satisfied: scikit-learn in /usr/local/lib/python3.6/dist-packages (from deepmatcher==0.1.1) (0.22.2.post1)\n",
            "Requirement already satisfied: future in /usr/local/lib/python3.6/dist-packages (from torch>=1.0->deepmatcher==0.1.1) (0.16.0)\n",
            "Requirement already satisfied: numpy in /usr/local/lib/python3.6/dist-packages (from torch>=1.0->deepmatcher==0.1.1) (1.18.5)\n",
            "Requirement already satisfied: requests in /usr/local/lib/python3.6/dist-packages (from torchtext->deepmatcher==0.1.1) (2.23.0)\n",
            "Requirement already satisfied: pybind11>=2.2 in /usr/local/lib/python3.6/dist-packages (from fasttext->deepmatcher==0.1.1) (2.5.0)\n",
            "Requirement already satisfied: setuptools>=0.7.0 in /usr/local/lib/python3.6/dist-packages (from fasttext->deepmatcher==0.1.1) (49.6.0)\n",
            "Requirement already satisfied: python-dateutil>=2.6.1 in /usr/local/lib/python3.6/dist-packages (from pandas->deepmatcher==0.1.1) (2.8.1)\n",
            "Requirement already satisfied: pytz>=2017.2 in /usr/local/lib/python3.6/dist-packages (from pandas->deepmatcher==0.1.1) (2018.9)\n",
            "Requirement already satisfied: joblib>=0.11 in /usr/local/lib/python3.6/dist-packages (from scikit-learn->deepmatcher==0.1.1) (0.16.0)\n",
            "Requirement already satisfied: scipy>=0.17.0 in /usr/local/lib/python3.6/dist-packages (from scikit-learn->deepmatcher==0.1.1) (1.4.1)\n",
            "Requirement already satisfied: urllib3!=1.25.0,!=1.25.1,<1.26,>=1.21.1 in /usr/local/lib/python3.6/dist-packages (from requests->torchtext->deepmatcher==0.1.1) (1.24.3)\n",
            "Requirement already satisfied: certifi>=2017.4.17 in /usr/local/lib/python3.6/dist-packages (from requests->torchtext->deepmatcher==0.1.1) (2020.6.20)\n",
            "Requirement already satisfied: idna<3,>=2.5 in /usr/local/lib/python3.6/dist-packages (from requests->torchtext->deepmatcher==0.1.1) (2.10)\n",
            "Requirement already satisfied: chardet<4,>=3.0.2 in /usr/local/lib/python3.6/dist-packages (from requests->torchtext->deepmatcher==0.1.1) (3.0.4)\n",
            "Building wheels for collected packages: deepmatcher, fasttext\n",
            "  Building wheel for deepmatcher (setup.py) ... \u001b[?25l\u001b[?25hdone\n",
            "  Created wheel for deepmatcher: filename=deepmatcher-0.1.1-py2.py3-none-any.whl size=55003 sha256=9bd63c624d88843d47dc19cf17b0a1467c2319356ae7f845b204572eadbb7249\n",
            "  Stored in directory: /tmp/pip-ephem-wheel-cache-amcav9sd/wheels/21/b3/11/dc933837985fcb4683f016ed48f88ae73f90f9b20c122fbedd\n",
            "  Building wheel for fasttext (setup.py) ... \u001b[?25l\u001b[?25hdone\n",
            "  Created wheel for fasttext: filename=fasttext-0.9.2-cp36-cp36m-linux_x86_64.whl size=3015955 sha256=3d6557ba518961061baf75e0196588e79ef3c0375b72a47e446978696a2c2299\n",
            "  Stored in directory: /root/.cache/pip/wheels/98/ba/7f/b154944a1cf5a8cee91c154b75231136cc3a3321ab0e30f592\n",
            "Successfully built deepmatcher fasttext\n",
            "Installing collected packages: pyprind, fasttext, deepmatcher\n",
            "Successfully installed deepmatcher-0.1.1 fasttext-0.9.2 pyprind-2.11.2\n"
          ],
          "name": "stdout"
        }
      ]
    },
    {
      "cell_type": "code",
      "metadata": {
        "colab_type": "code",
        "id": "k8IcbmEdUZi9",
        "colab": {}
      },
      "source": [
        "import deepmatcher as dm"
      ],
      "execution_count": null,
      "outputs": []
    },
    {
      "cell_type": "code",
      "metadata": {
        "colab_type": "code",
        "id": "1bcsxdO8UhAL",
        "colab": {
          "base_uri": "https://localhost:8080/",
          "height": 34
        },
        "outputId": "9c6f0cb3-6086-4997-dea5-a1c44466234a"
      },
      "source": [
        "import torch\n",
        "torch.cuda.is_available()"
      ],
      "execution_count": null,
      "outputs": [
        {
          "output_type": "execute_result",
          "data": {
            "text/plain": [
              "True"
            ]
          },
          "metadata": {
            "tags": []
          },
          "execution_count": 3
        }
      ]
    },
    {
      "cell_type": "code",
      "metadata": {
        "colab_type": "code",
        "id": "UiPS6vCdU6DD",
        "colab": {
          "base_uri": "https://localhost:8080/",
          "height": 51
        },
        "outputId": "4661321f-f3d0-4be4-c80b-0e4ffc43dffa"
      },
      "source": [
        "try:\n",
        "  import recordlinkage\n",
        "except:\n",
        "  !pip install -qqq recordlinkage"
      ],
      "execution_count": null,
      "outputs": [
        {
          "output_type": "stream",
          "text": [
            "\u001b[K     |████████████████████████████████| 952kB 3.2MB/s \n",
            "\u001b[K     |████████████████████████████████| 102kB 6.0MB/s \n",
            "\u001b[?25h"
          ],
          "name": "stdout"
        }
      ]
    },
    {
      "cell_type": "code",
      "metadata": {
        "colab_type": "code",
        "id": "XlumULF_U-a8",
        "colab": {}
      },
      "source": [
        "import pandas as pd\n",
        "import recordlinkage\n",
        "from recordlinkage.datasets import load_febrl1\n",
        "df = load_febrl1(True)"
      ],
      "execution_count": null,
      "outputs": []
    },
    {
      "cell_type": "code",
      "metadata": {
        "colab_type": "code",
        "id": "FVlfSEhzW1Pd",
        "colab": {}
      },
      "source": [
        "dfNoLabels = load_febrl1()\n"
      ],
      "execution_count": null,
      "outputs": []
    },
    {
      "cell_type": "code",
      "metadata": {
        "colab_type": "code",
        "id": "mK0yDPyhawtR",
        "colab": {}
      },
      "source": [
        "matching_dictionary = df[1]"
      ],
      "execution_count": null,
      "outputs": []
    },
    {
      "cell_type": "code",
      "metadata": {
        "colab_type": "code",
        "id": "MpknbfOtcXPU",
        "colab": {}
      },
      "source": [
        "left_df = dfNoLabels.loc[matching_dictionary.get_level_values(0)]"
      ],
      "execution_count": null,
      "outputs": []
    },
    {
      "cell_type": "code",
      "metadata": {
        "colab_type": "code",
        "id": "BLvpUXWLfxnq",
        "colab": {}
      },
      "source": [
        "right_df = dfNoLabels.loc[matching_dictionary.get_level_values(1)]"
      ],
      "execution_count": null,
      "outputs": []
    },
    {
      "cell_type": "code",
      "metadata": {
        "colab_type": "code",
        "id": "myO-4g4Ue7Yb",
        "colab": {
          "base_uri": "https://localhost:8080/",
          "height": 419
        },
        "outputId": "16aa7397-74ff-47a8-dd0d-af297b320a8f"
      },
      "source": [
        "left_df"
      ],
      "execution_count": null,
      "outputs": [
        {
          "output_type": "execute_result",
          "data": {
            "text/html": [
              "<div>\n",
              "<style scoped>\n",
              "    .dataframe tbody tr th:only-of-type {\n",
              "        vertical-align: middle;\n",
              "    }\n",
              "\n",
              "    .dataframe tbody tr th {\n",
              "        vertical-align: top;\n",
              "    }\n",
              "\n",
              "    .dataframe thead th {\n",
              "        text-align: right;\n",
              "    }\n",
              "</style>\n",
              "<table border=\"1\" class=\"dataframe\">\n",
              "  <thead>\n",
              "    <tr style=\"text-align: right;\">\n",
              "      <th></th>\n",
              "      <th>given_name</th>\n",
              "      <th>surname</th>\n",
              "      <th>street_number</th>\n",
              "      <th>address_1</th>\n",
              "      <th>address_2</th>\n",
              "      <th>suburb</th>\n",
              "      <th>postcode</th>\n",
              "      <th>state</th>\n",
              "      <th>date_of_birth</th>\n",
              "      <th>soc_sec_id</th>\n",
              "    </tr>\n",
              "  </thead>\n",
              "  <tbody>\n",
              "    <tr>\n",
              "      <th>rec-223-dup-0</th>\n",
              "      <td>jamilla</td>\n",
              "      <td>wallner</td>\n",
              "      <td>6</td>\n",
              "      <td>tullaroop street</td>\n",
              "      <td>willaroo</td>\n",
              "      <td>st james</td>\n",
              "      <td>4011</td>\n",
              "      <td>wa</td>\n",
              "      <td>19081209</td>\n",
              "      <td>6988048</td>\n",
              "    </tr>\n",
              "    <tr>\n",
              "      <th>rec-122-dup-0</th>\n",
              "      <td>lachlan</td>\n",
              "      <td>berry</td>\n",
              "      <td>69</td>\n",
              "      <td>giblin street</td>\n",
              "      <td>killarney</td>\n",
              "      <td>bittern</td>\n",
              "      <td>4184</td>\n",
              "      <td>qld</td>\n",
              "      <td>19990219</td>\n",
              "      <td>7364009</td>\n",
              "    </tr>\n",
              "    <tr>\n",
              "      <th>rec-373-dup-0</th>\n",
              "      <td>deakin</td>\n",
              "      <td>sondergeld</td>\n",
              "      <td>231</td>\n",
              "      <td>goldfinch circuit</td>\n",
              "      <td>kooltuo</td>\n",
              "      <td>canterbury</td>\n",
              "      <td>2509</td>\n",
              "      <td>vic</td>\n",
              "      <td>19600210</td>\n",
              "      <td>2635962</td>\n",
              "    </tr>\n",
              "    <tr>\n",
              "      <th>rec-10-org</th>\n",
              "      <td>kayla</td>\n",
              "      <td>harrington</td>\n",
              "      <td>38</td>\n",
              "      <td>maltby circuit</td>\n",
              "      <td>coaling</td>\n",
              "      <td>coolaroo</td>\n",
              "      <td>3465</td>\n",
              "      <td>nsw</td>\n",
              "      <td>19150612</td>\n",
              "      <td>9004242</td>\n",
              "    </tr>\n",
              "    <tr>\n",
              "      <th>rec-227-dup-0</th>\n",
              "      <td>mia</td>\n",
              "      <td>purdon</td>\n",
              "      <td>23</td>\n",
              "      <td>ramsay place</td>\n",
              "      <td>mirani</td>\n",
              "      <td>gar butt</td>\n",
              "      <td>2206</td>\n",
              "      <td>vic</td>\n",
              "      <td>19831024</td>\n",
              "      <td>8099933</td>\n",
              "    </tr>\n",
              "    <tr>\n",
              "      <th>...</th>\n",
              "      <td>...</td>\n",
              "      <td>...</td>\n",
              "      <td>...</td>\n",
              "      <td>...</td>\n",
              "      <td>...</td>\n",
              "      <td>...</td>\n",
              "      <td>...</td>\n",
              "      <td>...</td>\n",
              "      <td>...</td>\n",
              "      <td>...</td>\n",
              "    </tr>\n",
              "    <tr>\n",
              "      <th>rec-132-org</th>\n",
              "      <td>joshua</td>\n",
              "      <td>ingels</td>\n",
              "      <td>14</td>\n",
              "      <td>arabana street</td>\n",
              "      <td>tatyara</td>\n",
              "      <td>port lincoln</td>\n",
              "      <td>2325</td>\n",
              "      <td>vic</td>\n",
              "      <td>19080503</td>\n",
              "      <td>3603864</td>\n",
              "    </tr>\n",
              "    <tr>\n",
              "      <th>rec-498-dup-0</th>\n",
              "      <td>claire</td>\n",
              "      <td>crook</td>\n",
              "      <td>9</td>\n",
              "      <td>oyster farm</td>\n",
              "      <td>basedow street</td>\n",
              "      <td>NaN</td>\n",
              "      <td>3146</td>\n",
              "      <td>vic</td>\n",
              "      <td>NaN</td>\n",
              "      <td>2161417</td>\n",
              "    </tr>\n",
              "    <tr>\n",
              "      <th>rec-8-org</th>\n",
              "      <td>james</td>\n",
              "      <td>jesser</td>\n",
              "      <td>53</td>\n",
              "      <td>howe crescent</td>\n",
              "      <td>nuffield village</td>\n",
              "      <td>st clair</td>\n",
              "      <td>4215</td>\n",
              "      <td>vic</td>\n",
              "      <td>19120111</td>\n",
              "      <td>5961736</td>\n",
              "    </tr>\n",
              "    <tr>\n",
              "      <th>rec-222-dup-0</th>\n",
              "      <td>emiiyl</td>\n",
              "      <td>coleman</td>\n",
              "      <td>108</td>\n",
              "      <td>chewings street</td>\n",
              "      <td>berkeleyv lge</td>\n",
              "      <td>wellington point</td>\n",
              "      <td>2550</td>\n",
              "      <td>nsw</td>\n",
              "      <td>19421221</td>\n",
              "      <td>7206933</td>\n",
              "    </tr>\n",
              "    <tr>\n",
              "      <th>rec-83-org</th>\n",
              "      <td>mitchell</td>\n",
              "      <td>berry</td>\n",
              "      <td>1</td>\n",
              "      <td>braine street</td>\n",
              "      <td>gowrie</td>\n",
              "      <td>smithfield</td>\n",
              "      <td>3188</td>\n",
              "      <td>nsw</td>\n",
              "      <td>19400503</td>\n",
              "      <td>2887622</td>\n",
              "    </tr>\n",
              "  </tbody>\n",
              "</table>\n",
              "<p>500 rows × 10 columns</p>\n",
              "</div>"
            ],
            "text/plain": [
              "              given_name     surname  ... date_of_birth soc_sec_id\n",
              "rec-223-dup-0    jamilla     wallner  ...      19081209    6988048\n",
              "rec-122-dup-0    lachlan       berry  ...      19990219    7364009\n",
              "rec-373-dup-0     deakin  sondergeld  ...      19600210    2635962\n",
              "rec-10-org         kayla  harrington  ...      19150612    9004242\n",
              "rec-227-dup-0        mia      purdon  ...      19831024    8099933\n",
              "...                  ...         ...  ...           ...        ...\n",
              "rec-132-org       joshua      ingels  ...      19080503    3603864\n",
              "rec-498-dup-0     claire       crook  ...           NaN    2161417\n",
              "rec-8-org          james      jesser  ...      19120111    5961736\n",
              "rec-222-dup-0     emiiyl     coleman  ...      19421221    7206933\n",
              "rec-83-org      mitchell       berry  ...      19400503    2887622\n",
              "\n",
              "[500 rows x 10 columns]"
            ]
          },
          "metadata": {
            "tags": []
          },
          "execution_count": 10
        }
      ]
    },
    {
      "cell_type": "code",
      "metadata": {
        "colab_type": "code",
        "id": "7sHwWlzAfmX6",
        "colab": {
          "base_uri": "https://localhost:8080/",
          "height": 419
        },
        "outputId": "4dfe9eb3-bb8e-44c1-c943-6aab1ac186da"
      },
      "source": [
        "right_df"
      ],
      "execution_count": null,
      "outputs": [
        {
          "output_type": "execute_result",
          "data": {
            "text/html": [
              "<div>\n",
              "<style scoped>\n",
              "    .dataframe tbody tr th:only-of-type {\n",
              "        vertical-align: middle;\n",
              "    }\n",
              "\n",
              "    .dataframe tbody tr th {\n",
              "        vertical-align: top;\n",
              "    }\n",
              "\n",
              "    .dataframe thead th {\n",
              "        text-align: right;\n",
              "    }\n",
              "</style>\n",
              "<table border=\"1\" class=\"dataframe\">\n",
              "  <thead>\n",
              "    <tr style=\"text-align: right;\">\n",
              "      <th></th>\n",
              "      <th>given_name</th>\n",
              "      <th>surname</th>\n",
              "      <th>street_number</th>\n",
              "      <th>address_1</th>\n",
              "      <th>address_2</th>\n",
              "      <th>suburb</th>\n",
              "      <th>postcode</th>\n",
              "      <th>state</th>\n",
              "      <th>date_of_birth</th>\n",
              "      <th>soc_sec_id</th>\n",
              "    </tr>\n",
              "  </thead>\n",
              "  <tbody>\n",
              "    <tr>\n",
              "      <th>rec-223-org</th>\n",
              "      <td>NaN</td>\n",
              "      <td>waller</td>\n",
              "      <td>6</td>\n",
              "      <td>tullaroop street</td>\n",
              "      <td>willaroo</td>\n",
              "      <td>st james</td>\n",
              "      <td>4011</td>\n",
              "      <td>wa</td>\n",
              "      <td>19081209</td>\n",
              "      <td>6988048</td>\n",
              "    </tr>\n",
              "    <tr>\n",
              "      <th>rec-122-org</th>\n",
              "      <td>lachlan</td>\n",
              "      <td>berry</td>\n",
              "      <td>69</td>\n",
              "      <td>giblin street</td>\n",
              "      <td>killarney</td>\n",
              "      <td>bittern</td>\n",
              "      <td>4814</td>\n",
              "      <td>qld</td>\n",
              "      <td>19990219</td>\n",
              "      <td>7364009</td>\n",
              "    </tr>\n",
              "    <tr>\n",
              "      <th>rec-373-org</th>\n",
              "      <td>deakin</td>\n",
              "      <td>sondergeld</td>\n",
              "      <td>48</td>\n",
              "      <td>goldfinch circuit</td>\n",
              "      <td>kooltuo</td>\n",
              "      <td>canterbury</td>\n",
              "      <td>2776</td>\n",
              "      <td>vic</td>\n",
              "      <td>19600210</td>\n",
              "      <td>2635962</td>\n",
              "    </tr>\n",
              "    <tr>\n",
              "      <th>rec-10-dup-0</th>\n",
              "      <td>kayla</td>\n",
              "      <td>harrington</td>\n",
              "      <td>NaN</td>\n",
              "      <td>maltby circuit</td>\n",
              "      <td>coaling</td>\n",
              "      <td>coolaroo</td>\n",
              "      <td>3465</td>\n",
              "      <td>nsw</td>\n",
              "      <td>19150612</td>\n",
              "      <td>9004242</td>\n",
              "    </tr>\n",
              "    <tr>\n",
              "      <th>rec-227-org</th>\n",
              "      <td>luke</td>\n",
              "      <td>purdon</td>\n",
              "      <td>23</td>\n",
              "      <td>ramsay place</td>\n",
              "      <td>mirani</td>\n",
              "      <td>garbutt</td>\n",
              "      <td>2260</td>\n",
              "      <td>vic</td>\n",
              "      <td>19831024</td>\n",
              "      <td>8099933</td>\n",
              "    </tr>\n",
              "    <tr>\n",
              "      <th>...</th>\n",
              "      <td>...</td>\n",
              "      <td>...</td>\n",
              "      <td>...</td>\n",
              "      <td>...</td>\n",
              "      <td>...</td>\n",
              "      <td>...</td>\n",
              "      <td>...</td>\n",
              "      <td>...</td>\n",
              "      <td>...</td>\n",
              "      <td>...</td>\n",
              "    </tr>\n",
              "    <tr>\n",
              "      <th>rec-132-dup-0</th>\n",
              "      <td>joshua</td>\n",
              "      <td>ingelbs</td>\n",
              "      <td>14</td>\n",
              "      <td>arabana street</td>\n",
              "      <td>tatyara</td>\n",
              "      <td>port lincoln</td>\n",
              "      <td>2352</td>\n",
              "      <td>vic</td>\n",
              "      <td>19080503</td>\n",
              "      <td>3603864</td>\n",
              "    </tr>\n",
              "    <tr>\n",
              "      <th>rec-498-org</th>\n",
              "      <td>claire</td>\n",
              "      <td>crook</td>\n",
              "      <td>9</td>\n",
              "      <td>basedow street</td>\n",
              "      <td>oyster farm</td>\n",
              "      <td>wanniassa</td>\n",
              "      <td>3146</td>\n",
              "      <td>vic</td>\n",
              "      <td>NaN</td>\n",
              "      <td>2161417</td>\n",
              "    </tr>\n",
              "    <tr>\n",
              "      <th>rec-8-dup-0</th>\n",
              "      <td>james</td>\n",
              "      <td>jeslser</td>\n",
              "      <td>53</td>\n",
              "      <td>howe crescent</td>\n",
              "      <td>nuffield v illage</td>\n",
              "      <td>st clair</td>\n",
              "      <td>4215</td>\n",
              "      <td>vic</td>\n",
              "      <td>19120111</td>\n",
              "      <td>5961736</td>\n",
              "    </tr>\n",
              "    <tr>\n",
              "      <th>rec-222-org</th>\n",
              "      <td>emiily</td>\n",
              "      <td>coleman</td>\n",
              "      <td>108</td>\n",
              "      <td>chewings street</td>\n",
              "      <td>berkeley vlge</td>\n",
              "      <td>wellington point</td>\n",
              "      <td>2550</td>\n",
              "      <td>nsw</td>\n",
              "      <td>19421221</td>\n",
              "      <td>7206933</td>\n",
              "    </tr>\n",
              "    <tr>\n",
              "      <th>rec-83-dup-0</th>\n",
              "      <td>mitchell</td>\n",
              "      <td>berry</td>\n",
              "      <td>1</td>\n",
              "      <td>braine treet</td>\n",
              "      <td>NaN</td>\n",
              "      <td>smithfield</td>\n",
              "      <td>3188</td>\n",
              "      <td>nsw</td>\n",
              "      <td>19400503</td>\n",
              "      <td>2887622</td>\n",
              "    </tr>\n",
              "  </tbody>\n",
              "</table>\n",
              "<p>500 rows × 10 columns</p>\n",
              "</div>"
            ],
            "text/plain": [
              "              given_name     surname  ... date_of_birth soc_sec_id\n",
              "rec-223-org          NaN      waller  ...      19081209    6988048\n",
              "rec-122-org      lachlan       berry  ...      19990219    7364009\n",
              "rec-373-org       deakin  sondergeld  ...      19600210    2635962\n",
              "rec-10-dup-0       kayla  harrington  ...      19150612    9004242\n",
              "rec-227-org         luke      purdon  ...      19831024    8099933\n",
              "...                  ...         ...  ...           ...        ...\n",
              "rec-132-dup-0     joshua     ingelbs  ...      19080503    3603864\n",
              "rec-498-org       claire       crook  ...           NaN    2161417\n",
              "rec-8-dup-0        james     jeslser  ...      19120111    5961736\n",
              "rec-222-org       emiily     coleman  ...      19421221    7206933\n",
              "rec-83-dup-0    mitchell       berry  ...      19400503    2887622\n",
              "\n",
              "[500 rows x 10 columns]"
            ]
          },
          "metadata": {
            "tags": []
          },
          "execution_count": 11
        }
      ]
    },
    {
      "cell_type": "code",
      "metadata": {
        "colab_type": "code",
        "id": "Kz8oah0lcyjo",
        "colab": {
          "base_uri": "https://localhost:8080/",
          "height": 419
        },
        "outputId": "1196d88e-2f87-44d0-d4ac-30eabaa72da5"
      },
      "source": [
        "left_df = left_df.drop(columns=['street_number', 'address_2', 'postcode', 'soc_sec_id'])\n",
        "left_df.reset_index(level=0, inplace=True)\n",
        "left_df"
      ],
      "execution_count": null,
      "outputs": [
        {
          "output_type": "execute_result",
          "data": {
            "text/html": [
              "<div>\n",
              "<style scoped>\n",
              "    .dataframe tbody tr th:only-of-type {\n",
              "        vertical-align: middle;\n",
              "    }\n",
              "\n",
              "    .dataframe tbody tr th {\n",
              "        vertical-align: top;\n",
              "    }\n",
              "\n",
              "    .dataframe thead th {\n",
              "        text-align: right;\n",
              "    }\n",
              "</style>\n",
              "<table border=\"1\" class=\"dataframe\">\n",
              "  <thead>\n",
              "    <tr style=\"text-align: right;\">\n",
              "      <th></th>\n",
              "      <th>index</th>\n",
              "      <th>given_name</th>\n",
              "      <th>surname</th>\n",
              "      <th>address_1</th>\n",
              "      <th>suburb</th>\n",
              "      <th>state</th>\n",
              "      <th>date_of_birth</th>\n",
              "    </tr>\n",
              "  </thead>\n",
              "  <tbody>\n",
              "    <tr>\n",
              "      <th>0</th>\n",
              "      <td>rec-223-dup-0</td>\n",
              "      <td>jamilla</td>\n",
              "      <td>wallner</td>\n",
              "      <td>tullaroop street</td>\n",
              "      <td>st james</td>\n",
              "      <td>wa</td>\n",
              "      <td>19081209</td>\n",
              "    </tr>\n",
              "    <tr>\n",
              "      <th>1</th>\n",
              "      <td>rec-122-dup-0</td>\n",
              "      <td>lachlan</td>\n",
              "      <td>berry</td>\n",
              "      <td>giblin street</td>\n",
              "      <td>bittern</td>\n",
              "      <td>qld</td>\n",
              "      <td>19990219</td>\n",
              "    </tr>\n",
              "    <tr>\n",
              "      <th>2</th>\n",
              "      <td>rec-373-dup-0</td>\n",
              "      <td>deakin</td>\n",
              "      <td>sondergeld</td>\n",
              "      <td>goldfinch circuit</td>\n",
              "      <td>canterbury</td>\n",
              "      <td>vic</td>\n",
              "      <td>19600210</td>\n",
              "    </tr>\n",
              "    <tr>\n",
              "      <th>3</th>\n",
              "      <td>rec-10-org</td>\n",
              "      <td>kayla</td>\n",
              "      <td>harrington</td>\n",
              "      <td>maltby circuit</td>\n",
              "      <td>coolaroo</td>\n",
              "      <td>nsw</td>\n",
              "      <td>19150612</td>\n",
              "    </tr>\n",
              "    <tr>\n",
              "      <th>4</th>\n",
              "      <td>rec-227-dup-0</td>\n",
              "      <td>mia</td>\n",
              "      <td>purdon</td>\n",
              "      <td>ramsay place</td>\n",
              "      <td>gar butt</td>\n",
              "      <td>vic</td>\n",
              "      <td>19831024</td>\n",
              "    </tr>\n",
              "    <tr>\n",
              "      <th>...</th>\n",
              "      <td>...</td>\n",
              "      <td>...</td>\n",
              "      <td>...</td>\n",
              "      <td>...</td>\n",
              "      <td>...</td>\n",
              "      <td>...</td>\n",
              "      <td>...</td>\n",
              "    </tr>\n",
              "    <tr>\n",
              "      <th>495</th>\n",
              "      <td>rec-132-org</td>\n",
              "      <td>joshua</td>\n",
              "      <td>ingels</td>\n",
              "      <td>arabana street</td>\n",
              "      <td>port lincoln</td>\n",
              "      <td>vic</td>\n",
              "      <td>19080503</td>\n",
              "    </tr>\n",
              "    <tr>\n",
              "      <th>496</th>\n",
              "      <td>rec-498-dup-0</td>\n",
              "      <td>claire</td>\n",
              "      <td>crook</td>\n",
              "      <td>oyster farm</td>\n",
              "      <td>NaN</td>\n",
              "      <td>vic</td>\n",
              "      <td>NaN</td>\n",
              "    </tr>\n",
              "    <tr>\n",
              "      <th>497</th>\n",
              "      <td>rec-8-org</td>\n",
              "      <td>james</td>\n",
              "      <td>jesser</td>\n",
              "      <td>howe crescent</td>\n",
              "      <td>st clair</td>\n",
              "      <td>vic</td>\n",
              "      <td>19120111</td>\n",
              "    </tr>\n",
              "    <tr>\n",
              "      <th>498</th>\n",
              "      <td>rec-222-dup-0</td>\n",
              "      <td>emiiyl</td>\n",
              "      <td>coleman</td>\n",
              "      <td>chewings street</td>\n",
              "      <td>wellington point</td>\n",
              "      <td>nsw</td>\n",
              "      <td>19421221</td>\n",
              "    </tr>\n",
              "    <tr>\n",
              "      <th>499</th>\n",
              "      <td>rec-83-org</td>\n",
              "      <td>mitchell</td>\n",
              "      <td>berry</td>\n",
              "      <td>braine street</td>\n",
              "      <td>smithfield</td>\n",
              "      <td>nsw</td>\n",
              "      <td>19400503</td>\n",
              "    </tr>\n",
              "  </tbody>\n",
              "</table>\n",
              "<p>500 rows × 7 columns</p>\n",
              "</div>"
            ],
            "text/plain": [
              "             index given_name     surname  ...            suburb state date_of_birth\n",
              "0    rec-223-dup-0    jamilla     wallner  ...          st james    wa      19081209\n",
              "1    rec-122-dup-0    lachlan       berry  ...           bittern   qld      19990219\n",
              "2    rec-373-dup-0     deakin  sondergeld  ...        canterbury   vic      19600210\n",
              "3       rec-10-org      kayla  harrington  ...          coolaroo   nsw      19150612\n",
              "4    rec-227-dup-0        mia      purdon  ...          gar butt   vic      19831024\n",
              "..             ...        ...         ...  ...               ...   ...           ...\n",
              "495    rec-132-org     joshua      ingels  ...      port lincoln   vic      19080503\n",
              "496  rec-498-dup-0     claire       crook  ...               NaN   vic           NaN\n",
              "497      rec-8-org      james      jesser  ...          st clair   vic      19120111\n",
              "498  rec-222-dup-0     emiiyl     coleman  ...  wellington point   nsw      19421221\n",
              "499     rec-83-org   mitchell       berry  ...        smithfield   nsw      19400503\n",
              "\n",
              "[500 rows x 7 columns]"
            ]
          },
          "metadata": {
            "tags": []
          },
          "execution_count": 12
        }
      ]
    },
    {
      "cell_type": "code",
      "metadata": {
        "colab_type": "code",
        "id": "EWHVn_h6drNd",
        "colab": {
          "base_uri": "https://localhost:8080/",
          "height": 419
        },
        "outputId": "6ef65a92-5250-44a2-9e5a-3653661d4cc1"
      },
      "source": [
        "right_df = right_df.drop(columns=['street_number', 'address_2', 'postcode', 'soc_sec_id'])\n",
        "right_df.reset_index(level=0, inplace=True)\n",
        "right_df"
      ],
      "execution_count": null,
      "outputs": [
        {
          "output_type": "execute_result",
          "data": {
            "text/html": [
              "<div>\n",
              "<style scoped>\n",
              "    .dataframe tbody tr th:only-of-type {\n",
              "        vertical-align: middle;\n",
              "    }\n",
              "\n",
              "    .dataframe tbody tr th {\n",
              "        vertical-align: top;\n",
              "    }\n",
              "\n",
              "    .dataframe thead th {\n",
              "        text-align: right;\n",
              "    }\n",
              "</style>\n",
              "<table border=\"1\" class=\"dataframe\">\n",
              "  <thead>\n",
              "    <tr style=\"text-align: right;\">\n",
              "      <th></th>\n",
              "      <th>index</th>\n",
              "      <th>given_name</th>\n",
              "      <th>surname</th>\n",
              "      <th>address_1</th>\n",
              "      <th>suburb</th>\n",
              "      <th>state</th>\n",
              "      <th>date_of_birth</th>\n",
              "    </tr>\n",
              "  </thead>\n",
              "  <tbody>\n",
              "    <tr>\n",
              "      <th>0</th>\n",
              "      <td>rec-223-org</td>\n",
              "      <td>NaN</td>\n",
              "      <td>waller</td>\n",
              "      <td>tullaroop street</td>\n",
              "      <td>st james</td>\n",
              "      <td>wa</td>\n",
              "      <td>19081209</td>\n",
              "    </tr>\n",
              "    <tr>\n",
              "      <th>1</th>\n",
              "      <td>rec-122-org</td>\n",
              "      <td>lachlan</td>\n",
              "      <td>berry</td>\n",
              "      <td>giblin street</td>\n",
              "      <td>bittern</td>\n",
              "      <td>qld</td>\n",
              "      <td>19990219</td>\n",
              "    </tr>\n",
              "    <tr>\n",
              "      <th>2</th>\n",
              "      <td>rec-373-org</td>\n",
              "      <td>deakin</td>\n",
              "      <td>sondergeld</td>\n",
              "      <td>goldfinch circuit</td>\n",
              "      <td>canterbury</td>\n",
              "      <td>vic</td>\n",
              "      <td>19600210</td>\n",
              "    </tr>\n",
              "    <tr>\n",
              "      <th>3</th>\n",
              "      <td>rec-10-dup-0</td>\n",
              "      <td>kayla</td>\n",
              "      <td>harrington</td>\n",
              "      <td>maltby circuit</td>\n",
              "      <td>coolaroo</td>\n",
              "      <td>nsw</td>\n",
              "      <td>19150612</td>\n",
              "    </tr>\n",
              "    <tr>\n",
              "      <th>4</th>\n",
              "      <td>rec-227-org</td>\n",
              "      <td>luke</td>\n",
              "      <td>purdon</td>\n",
              "      <td>ramsay place</td>\n",
              "      <td>garbutt</td>\n",
              "      <td>vic</td>\n",
              "      <td>19831024</td>\n",
              "    </tr>\n",
              "    <tr>\n",
              "      <th>...</th>\n",
              "      <td>...</td>\n",
              "      <td>...</td>\n",
              "      <td>...</td>\n",
              "      <td>...</td>\n",
              "      <td>...</td>\n",
              "      <td>...</td>\n",
              "      <td>...</td>\n",
              "    </tr>\n",
              "    <tr>\n",
              "      <th>495</th>\n",
              "      <td>rec-132-dup-0</td>\n",
              "      <td>joshua</td>\n",
              "      <td>ingelbs</td>\n",
              "      <td>arabana street</td>\n",
              "      <td>port lincoln</td>\n",
              "      <td>vic</td>\n",
              "      <td>19080503</td>\n",
              "    </tr>\n",
              "    <tr>\n",
              "      <th>496</th>\n",
              "      <td>rec-498-org</td>\n",
              "      <td>claire</td>\n",
              "      <td>crook</td>\n",
              "      <td>basedow street</td>\n",
              "      <td>wanniassa</td>\n",
              "      <td>vic</td>\n",
              "      <td>NaN</td>\n",
              "    </tr>\n",
              "    <tr>\n",
              "      <th>497</th>\n",
              "      <td>rec-8-dup-0</td>\n",
              "      <td>james</td>\n",
              "      <td>jeslser</td>\n",
              "      <td>howe crescent</td>\n",
              "      <td>st clair</td>\n",
              "      <td>vic</td>\n",
              "      <td>19120111</td>\n",
              "    </tr>\n",
              "    <tr>\n",
              "      <th>498</th>\n",
              "      <td>rec-222-org</td>\n",
              "      <td>emiily</td>\n",
              "      <td>coleman</td>\n",
              "      <td>chewings street</td>\n",
              "      <td>wellington point</td>\n",
              "      <td>nsw</td>\n",
              "      <td>19421221</td>\n",
              "    </tr>\n",
              "    <tr>\n",
              "      <th>499</th>\n",
              "      <td>rec-83-dup-0</td>\n",
              "      <td>mitchell</td>\n",
              "      <td>berry</td>\n",
              "      <td>braine treet</td>\n",
              "      <td>smithfield</td>\n",
              "      <td>nsw</td>\n",
              "      <td>19400503</td>\n",
              "    </tr>\n",
              "  </tbody>\n",
              "</table>\n",
              "<p>500 rows × 7 columns</p>\n",
              "</div>"
            ],
            "text/plain": [
              "             index given_name     surname  ...            suburb state date_of_birth\n",
              "0      rec-223-org        NaN      waller  ...          st james    wa      19081209\n",
              "1      rec-122-org    lachlan       berry  ...           bittern   qld      19990219\n",
              "2      rec-373-org     deakin  sondergeld  ...        canterbury   vic      19600210\n",
              "3     rec-10-dup-0      kayla  harrington  ...          coolaroo   nsw      19150612\n",
              "4      rec-227-org       luke      purdon  ...           garbutt   vic      19831024\n",
              "..             ...        ...         ...  ...               ...   ...           ...\n",
              "495  rec-132-dup-0     joshua     ingelbs  ...      port lincoln   vic      19080503\n",
              "496    rec-498-org     claire       crook  ...         wanniassa   vic           NaN\n",
              "497    rec-8-dup-0      james     jeslser  ...          st clair   vic      19120111\n",
              "498    rec-222-org     emiily     coleman  ...  wellington point   nsw      19421221\n",
              "499   rec-83-dup-0   mitchell       berry  ...        smithfield   nsw      19400503\n",
              "\n",
              "[500 rows x 7 columns]"
            ]
          },
          "metadata": {
            "tags": []
          },
          "execution_count": 13
        }
      ]
    },
    {
      "cell_type": "code",
      "metadata": {
        "colab_type": "code",
        "id": "VtB812e_gJo_",
        "colab": {}
      },
      "source": [
        "left_df_renamed =left_df.add_prefix('left_')"
      ],
      "execution_count": null,
      "outputs": []
    },
    {
      "cell_type": "code",
      "metadata": {
        "colab_type": "code",
        "id": "Yn2ziRANhere",
        "colab": {}
      },
      "source": [
        "right_df_renamed = right_df.add_prefix('right_')"
      ],
      "execution_count": null,
      "outputs": []
    },
    {
      "cell_type": "code",
      "metadata": {
        "colab_type": "code",
        "id": "8e4mDMK9bXc4",
        "colab": {
          "base_uri": "https://localhost:8080/",
          "height": 419
        },
        "outputId": "fe6777f3-ddc5-4e41-9120-9844ec1683d7"
      },
      "source": [
        "right_df_renamed['join'] = 1\n",
        "right_df_renamed"
      ],
      "execution_count": null,
      "outputs": [
        {
          "output_type": "execute_result",
          "data": {
            "text/html": [
              "<div>\n",
              "<style scoped>\n",
              "    .dataframe tbody tr th:only-of-type {\n",
              "        vertical-align: middle;\n",
              "    }\n",
              "\n",
              "    .dataframe tbody tr th {\n",
              "        vertical-align: top;\n",
              "    }\n",
              "\n",
              "    .dataframe thead th {\n",
              "        text-align: right;\n",
              "    }\n",
              "</style>\n",
              "<table border=\"1\" class=\"dataframe\">\n",
              "  <thead>\n",
              "    <tr style=\"text-align: right;\">\n",
              "      <th></th>\n",
              "      <th>right_index</th>\n",
              "      <th>right_given_name</th>\n",
              "      <th>right_surname</th>\n",
              "      <th>right_address_1</th>\n",
              "      <th>right_suburb</th>\n",
              "      <th>right_state</th>\n",
              "      <th>right_date_of_birth</th>\n",
              "      <th>join</th>\n",
              "    </tr>\n",
              "  </thead>\n",
              "  <tbody>\n",
              "    <tr>\n",
              "      <th>0</th>\n",
              "      <td>rec-223-org</td>\n",
              "      <td>NaN</td>\n",
              "      <td>waller</td>\n",
              "      <td>tullaroop street</td>\n",
              "      <td>st james</td>\n",
              "      <td>wa</td>\n",
              "      <td>19081209</td>\n",
              "      <td>1</td>\n",
              "    </tr>\n",
              "    <tr>\n",
              "      <th>1</th>\n",
              "      <td>rec-122-org</td>\n",
              "      <td>lachlan</td>\n",
              "      <td>berry</td>\n",
              "      <td>giblin street</td>\n",
              "      <td>bittern</td>\n",
              "      <td>qld</td>\n",
              "      <td>19990219</td>\n",
              "      <td>1</td>\n",
              "    </tr>\n",
              "    <tr>\n",
              "      <th>2</th>\n",
              "      <td>rec-373-org</td>\n",
              "      <td>deakin</td>\n",
              "      <td>sondergeld</td>\n",
              "      <td>goldfinch circuit</td>\n",
              "      <td>canterbury</td>\n",
              "      <td>vic</td>\n",
              "      <td>19600210</td>\n",
              "      <td>1</td>\n",
              "    </tr>\n",
              "    <tr>\n",
              "      <th>3</th>\n",
              "      <td>rec-10-dup-0</td>\n",
              "      <td>kayla</td>\n",
              "      <td>harrington</td>\n",
              "      <td>maltby circuit</td>\n",
              "      <td>coolaroo</td>\n",
              "      <td>nsw</td>\n",
              "      <td>19150612</td>\n",
              "      <td>1</td>\n",
              "    </tr>\n",
              "    <tr>\n",
              "      <th>4</th>\n",
              "      <td>rec-227-org</td>\n",
              "      <td>luke</td>\n",
              "      <td>purdon</td>\n",
              "      <td>ramsay place</td>\n",
              "      <td>garbutt</td>\n",
              "      <td>vic</td>\n",
              "      <td>19831024</td>\n",
              "      <td>1</td>\n",
              "    </tr>\n",
              "    <tr>\n",
              "      <th>...</th>\n",
              "      <td>...</td>\n",
              "      <td>...</td>\n",
              "      <td>...</td>\n",
              "      <td>...</td>\n",
              "      <td>...</td>\n",
              "      <td>...</td>\n",
              "      <td>...</td>\n",
              "      <td>...</td>\n",
              "    </tr>\n",
              "    <tr>\n",
              "      <th>495</th>\n",
              "      <td>rec-132-dup-0</td>\n",
              "      <td>joshua</td>\n",
              "      <td>ingelbs</td>\n",
              "      <td>arabana street</td>\n",
              "      <td>port lincoln</td>\n",
              "      <td>vic</td>\n",
              "      <td>19080503</td>\n",
              "      <td>1</td>\n",
              "    </tr>\n",
              "    <tr>\n",
              "      <th>496</th>\n",
              "      <td>rec-498-org</td>\n",
              "      <td>claire</td>\n",
              "      <td>crook</td>\n",
              "      <td>basedow street</td>\n",
              "      <td>wanniassa</td>\n",
              "      <td>vic</td>\n",
              "      <td>NaN</td>\n",
              "      <td>1</td>\n",
              "    </tr>\n",
              "    <tr>\n",
              "      <th>497</th>\n",
              "      <td>rec-8-dup-0</td>\n",
              "      <td>james</td>\n",
              "      <td>jeslser</td>\n",
              "      <td>howe crescent</td>\n",
              "      <td>st clair</td>\n",
              "      <td>vic</td>\n",
              "      <td>19120111</td>\n",
              "      <td>1</td>\n",
              "    </tr>\n",
              "    <tr>\n",
              "      <th>498</th>\n",
              "      <td>rec-222-org</td>\n",
              "      <td>emiily</td>\n",
              "      <td>coleman</td>\n",
              "      <td>chewings street</td>\n",
              "      <td>wellington point</td>\n",
              "      <td>nsw</td>\n",
              "      <td>19421221</td>\n",
              "      <td>1</td>\n",
              "    </tr>\n",
              "    <tr>\n",
              "      <th>499</th>\n",
              "      <td>rec-83-dup-0</td>\n",
              "      <td>mitchell</td>\n",
              "      <td>berry</td>\n",
              "      <td>braine treet</td>\n",
              "      <td>smithfield</td>\n",
              "      <td>nsw</td>\n",
              "      <td>19400503</td>\n",
              "      <td>1</td>\n",
              "    </tr>\n",
              "  </tbody>\n",
              "</table>\n",
              "<p>500 rows × 8 columns</p>\n",
              "</div>"
            ],
            "text/plain": [
              "       right_index right_given_name  ... right_date_of_birth join\n",
              "0      rec-223-org              NaN  ...            19081209    1\n",
              "1      rec-122-org          lachlan  ...            19990219    1\n",
              "2      rec-373-org           deakin  ...            19600210    1\n",
              "3     rec-10-dup-0            kayla  ...            19150612    1\n",
              "4      rec-227-org             luke  ...            19831024    1\n",
              "..             ...              ...  ...                 ...  ...\n",
              "495  rec-132-dup-0           joshua  ...            19080503    1\n",
              "496    rec-498-org           claire  ...                 NaN    1\n",
              "497    rec-8-dup-0            james  ...            19120111    1\n",
              "498    rec-222-org           emiily  ...            19421221    1\n",
              "499   rec-83-dup-0         mitchell  ...            19400503    1\n",
              "\n",
              "[500 rows x 8 columns]"
            ]
          },
          "metadata": {
            "tags": []
          },
          "execution_count": 16
        }
      ]
    },
    {
      "cell_type": "code",
      "metadata": {
        "colab_type": "code",
        "id": "eVKH_5FJcBSr",
        "colab": {
          "base_uri": "https://localhost:8080/",
          "height": 419
        },
        "outputId": "0b01b28b-d566-4f0a-e4cc-762c7193cdcd"
      },
      "source": [
        "left_df_renamed['join'] = 1\n",
        "left_df_renamed"
      ],
      "execution_count": null,
      "outputs": [
        {
          "output_type": "execute_result",
          "data": {
            "text/html": [
              "<div>\n",
              "<style scoped>\n",
              "    .dataframe tbody tr th:only-of-type {\n",
              "        vertical-align: middle;\n",
              "    }\n",
              "\n",
              "    .dataframe tbody tr th {\n",
              "        vertical-align: top;\n",
              "    }\n",
              "\n",
              "    .dataframe thead th {\n",
              "        text-align: right;\n",
              "    }\n",
              "</style>\n",
              "<table border=\"1\" class=\"dataframe\">\n",
              "  <thead>\n",
              "    <tr style=\"text-align: right;\">\n",
              "      <th></th>\n",
              "      <th>left_index</th>\n",
              "      <th>left_given_name</th>\n",
              "      <th>left_surname</th>\n",
              "      <th>left_address_1</th>\n",
              "      <th>left_suburb</th>\n",
              "      <th>left_state</th>\n",
              "      <th>left_date_of_birth</th>\n",
              "      <th>join</th>\n",
              "    </tr>\n",
              "  </thead>\n",
              "  <tbody>\n",
              "    <tr>\n",
              "      <th>0</th>\n",
              "      <td>rec-223-dup-0</td>\n",
              "      <td>jamilla</td>\n",
              "      <td>wallner</td>\n",
              "      <td>tullaroop street</td>\n",
              "      <td>st james</td>\n",
              "      <td>wa</td>\n",
              "      <td>19081209</td>\n",
              "      <td>1</td>\n",
              "    </tr>\n",
              "    <tr>\n",
              "      <th>1</th>\n",
              "      <td>rec-122-dup-0</td>\n",
              "      <td>lachlan</td>\n",
              "      <td>berry</td>\n",
              "      <td>giblin street</td>\n",
              "      <td>bittern</td>\n",
              "      <td>qld</td>\n",
              "      <td>19990219</td>\n",
              "      <td>1</td>\n",
              "    </tr>\n",
              "    <tr>\n",
              "      <th>2</th>\n",
              "      <td>rec-373-dup-0</td>\n",
              "      <td>deakin</td>\n",
              "      <td>sondergeld</td>\n",
              "      <td>goldfinch circuit</td>\n",
              "      <td>canterbury</td>\n",
              "      <td>vic</td>\n",
              "      <td>19600210</td>\n",
              "      <td>1</td>\n",
              "    </tr>\n",
              "    <tr>\n",
              "      <th>3</th>\n",
              "      <td>rec-10-org</td>\n",
              "      <td>kayla</td>\n",
              "      <td>harrington</td>\n",
              "      <td>maltby circuit</td>\n",
              "      <td>coolaroo</td>\n",
              "      <td>nsw</td>\n",
              "      <td>19150612</td>\n",
              "      <td>1</td>\n",
              "    </tr>\n",
              "    <tr>\n",
              "      <th>4</th>\n",
              "      <td>rec-227-dup-0</td>\n",
              "      <td>mia</td>\n",
              "      <td>purdon</td>\n",
              "      <td>ramsay place</td>\n",
              "      <td>gar butt</td>\n",
              "      <td>vic</td>\n",
              "      <td>19831024</td>\n",
              "      <td>1</td>\n",
              "    </tr>\n",
              "    <tr>\n",
              "      <th>...</th>\n",
              "      <td>...</td>\n",
              "      <td>...</td>\n",
              "      <td>...</td>\n",
              "      <td>...</td>\n",
              "      <td>...</td>\n",
              "      <td>...</td>\n",
              "      <td>...</td>\n",
              "      <td>...</td>\n",
              "    </tr>\n",
              "    <tr>\n",
              "      <th>495</th>\n",
              "      <td>rec-132-org</td>\n",
              "      <td>joshua</td>\n",
              "      <td>ingels</td>\n",
              "      <td>arabana street</td>\n",
              "      <td>port lincoln</td>\n",
              "      <td>vic</td>\n",
              "      <td>19080503</td>\n",
              "      <td>1</td>\n",
              "    </tr>\n",
              "    <tr>\n",
              "      <th>496</th>\n",
              "      <td>rec-498-dup-0</td>\n",
              "      <td>claire</td>\n",
              "      <td>crook</td>\n",
              "      <td>oyster farm</td>\n",
              "      <td>NaN</td>\n",
              "      <td>vic</td>\n",
              "      <td>NaN</td>\n",
              "      <td>1</td>\n",
              "    </tr>\n",
              "    <tr>\n",
              "      <th>497</th>\n",
              "      <td>rec-8-org</td>\n",
              "      <td>james</td>\n",
              "      <td>jesser</td>\n",
              "      <td>howe crescent</td>\n",
              "      <td>st clair</td>\n",
              "      <td>vic</td>\n",
              "      <td>19120111</td>\n",
              "      <td>1</td>\n",
              "    </tr>\n",
              "    <tr>\n",
              "      <th>498</th>\n",
              "      <td>rec-222-dup-0</td>\n",
              "      <td>emiiyl</td>\n",
              "      <td>coleman</td>\n",
              "      <td>chewings street</td>\n",
              "      <td>wellington point</td>\n",
              "      <td>nsw</td>\n",
              "      <td>19421221</td>\n",
              "      <td>1</td>\n",
              "    </tr>\n",
              "    <tr>\n",
              "      <th>499</th>\n",
              "      <td>rec-83-org</td>\n",
              "      <td>mitchell</td>\n",
              "      <td>berry</td>\n",
              "      <td>braine street</td>\n",
              "      <td>smithfield</td>\n",
              "      <td>nsw</td>\n",
              "      <td>19400503</td>\n",
              "      <td>1</td>\n",
              "    </tr>\n",
              "  </tbody>\n",
              "</table>\n",
              "<p>500 rows × 8 columns</p>\n",
              "</div>"
            ],
            "text/plain": [
              "        left_index left_given_name  ... left_date_of_birth join\n",
              "0    rec-223-dup-0         jamilla  ...           19081209    1\n",
              "1    rec-122-dup-0         lachlan  ...           19990219    1\n",
              "2    rec-373-dup-0          deakin  ...           19600210    1\n",
              "3       rec-10-org           kayla  ...           19150612    1\n",
              "4    rec-227-dup-0             mia  ...           19831024    1\n",
              "..             ...             ...  ...                ...  ...\n",
              "495    rec-132-org          joshua  ...           19080503    1\n",
              "496  rec-498-dup-0          claire  ...                NaN    1\n",
              "497      rec-8-org           james  ...           19120111    1\n",
              "498  rec-222-dup-0          emiiyl  ...           19421221    1\n",
              "499     rec-83-org        mitchell  ...           19400503    1\n",
              "\n",
              "[500 rows x 8 columns]"
            ]
          },
          "metadata": {
            "tags": []
          },
          "execution_count": 17
        }
      ]
    },
    {
      "cell_type": "code",
      "metadata": {
        "colab_type": "code",
        "id": "Xz4i9-94wgJm",
        "colab": {
          "base_uri": "https://localhost:8080/",
          "height": 456
        },
        "outputId": "8bd609cc-0f41-43ca-c2a5-2faec916052f"
      },
      "source": [
        "final_df = pd.merge(left_df_renamed, right_df_renamed, on=\"join\")\n",
        "final_df.insert(0,'label',0)\n",
        "final_df['combined_index'] = list(zip(final_df.left_index, final_df.right_index))\n",
        "final_df.loc[final_df['combined_index'].isin(matching_dictionary),'label'] = 1\n",
        "final_df = final_df.drop(columns=['join','left_index','right_index','combined_index'])\n",
        "final_df"
      ],
      "execution_count": null,
      "outputs": [
        {
          "output_type": "execute_result",
          "data": {
            "text/html": [
              "<div>\n",
              "<style scoped>\n",
              "    .dataframe tbody tr th:only-of-type {\n",
              "        vertical-align: middle;\n",
              "    }\n",
              "\n",
              "    .dataframe tbody tr th {\n",
              "        vertical-align: top;\n",
              "    }\n",
              "\n",
              "    .dataframe thead th {\n",
              "        text-align: right;\n",
              "    }\n",
              "</style>\n",
              "<table border=\"1\" class=\"dataframe\">\n",
              "  <thead>\n",
              "    <tr style=\"text-align: right;\">\n",
              "      <th></th>\n",
              "      <th>label</th>\n",
              "      <th>left_given_name</th>\n",
              "      <th>left_surname</th>\n",
              "      <th>left_address_1</th>\n",
              "      <th>left_suburb</th>\n",
              "      <th>left_state</th>\n",
              "      <th>left_date_of_birth</th>\n",
              "      <th>right_given_name</th>\n",
              "      <th>right_surname</th>\n",
              "      <th>right_address_1</th>\n",
              "      <th>right_suburb</th>\n",
              "      <th>right_state</th>\n",
              "      <th>right_date_of_birth</th>\n",
              "    </tr>\n",
              "  </thead>\n",
              "  <tbody>\n",
              "    <tr>\n",
              "      <th>0</th>\n",
              "      <td>1</td>\n",
              "      <td>jamilla</td>\n",
              "      <td>wallner</td>\n",
              "      <td>tullaroop street</td>\n",
              "      <td>st james</td>\n",
              "      <td>wa</td>\n",
              "      <td>19081209</td>\n",
              "      <td>NaN</td>\n",
              "      <td>waller</td>\n",
              "      <td>tullaroop street</td>\n",
              "      <td>st james</td>\n",
              "      <td>wa</td>\n",
              "      <td>19081209</td>\n",
              "    </tr>\n",
              "    <tr>\n",
              "      <th>1</th>\n",
              "      <td>0</td>\n",
              "      <td>jamilla</td>\n",
              "      <td>wallner</td>\n",
              "      <td>tullaroop street</td>\n",
              "      <td>st james</td>\n",
              "      <td>wa</td>\n",
              "      <td>19081209</td>\n",
              "      <td>lachlan</td>\n",
              "      <td>berry</td>\n",
              "      <td>giblin street</td>\n",
              "      <td>bittern</td>\n",
              "      <td>qld</td>\n",
              "      <td>19990219</td>\n",
              "    </tr>\n",
              "    <tr>\n",
              "      <th>2</th>\n",
              "      <td>0</td>\n",
              "      <td>jamilla</td>\n",
              "      <td>wallner</td>\n",
              "      <td>tullaroop street</td>\n",
              "      <td>st james</td>\n",
              "      <td>wa</td>\n",
              "      <td>19081209</td>\n",
              "      <td>deakin</td>\n",
              "      <td>sondergeld</td>\n",
              "      <td>goldfinch circuit</td>\n",
              "      <td>canterbury</td>\n",
              "      <td>vic</td>\n",
              "      <td>19600210</td>\n",
              "    </tr>\n",
              "    <tr>\n",
              "      <th>3</th>\n",
              "      <td>0</td>\n",
              "      <td>jamilla</td>\n",
              "      <td>wallner</td>\n",
              "      <td>tullaroop street</td>\n",
              "      <td>st james</td>\n",
              "      <td>wa</td>\n",
              "      <td>19081209</td>\n",
              "      <td>kayla</td>\n",
              "      <td>harrington</td>\n",
              "      <td>maltby circuit</td>\n",
              "      <td>coolaroo</td>\n",
              "      <td>nsw</td>\n",
              "      <td>19150612</td>\n",
              "    </tr>\n",
              "    <tr>\n",
              "      <th>4</th>\n",
              "      <td>0</td>\n",
              "      <td>jamilla</td>\n",
              "      <td>wallner</td>\n",
              "      <td>tullaroop street</td>\n",
              "      <td>st james</td>\n",
              "      <td>wa</td>\n",
              "      <td>19081209</td>\n",
              "      <td>luke</td>\n",
              "      <td>purdon</td>\n",
              "      <td>ramsay place</td>\n",
              "      <td>garbutt</td>\n",
              "      <td>vic</td>\n",
              "      <td>19831024</td>\n",
              "    </tr>\n",
              "    <tr>\n",
              "      <th>...</th>\n",
              "      <td>...</td>\n",
              "      <td>...</td>\n",
              "      <td>...</td>\n",
              "      <td>...</td>\n",
              "      <td>...</td>\n",
              "      <td>...</td>\n",
              "      <td>...</td>\n",
              "      <td>...</td>\n",
              "      <td>...</td>\n",
              "      <td>...</td>\n",
              "      <td>...</td>\n",
              "      <td>...</td>\n",
              "      <td>...</td>\n",
              "    </tr>\n",
              "    <tr>\n",
              "      <th>249995</th>\n",
              "      <td>0</td>\n",
              "      <td>mitchell</td>\n",
              "      <td>berry</td>\n",
              "      <td>braine street</td>\n",
              "      <td>smithfield</td>\n",
              "      <td>nsw</td>\n",
              "      <td>19400503</td>\n",
              "      <td>joshua</td>\n",
              "      <td>ingelbs</td>\n",
              "      <td>arabana street</td>\n",
              "      <td>port lincoln</td>\n",
              "      <td>vic</td>\n",
              "      <td>19080503</td>\n",
              "    </tr>\n",
              "    <tr>\n",
              "      <th>249996</th>\n",
              "      <td>0</td>\n",
              "      <td>mitchell</td>\n",
              "      <td>berry</td>\n",
              "      <td>braine street</td>\n",
              "      <td>smithfield</td>\n",
              "      <td>nsw</td>\n",
              "      <td>19400503</td>\n",
              "      <td>claire</td>\n",
              "      <td>crook</td>\n",
              "      <td>basedow street</td>\n",
              "      <td>wanniassa</td>\n",
              "      <td>vic</td>\n",
              "      <td>NaN</td>\n",
              "    </tr>\n",
              "    <tr>\n",
              "      <th>249997</th>\n",
              "      <td>0</td>\n",
              "      <td>mitchell</td>\n",
              "      <td>berry</td>\n",
              "      <td>braine street</td>\n",
              "      <td>smithfield</td>\n",
              "      <td>nsw</td>\n",
              "      <td>19400503</td>\n",
              "      <td>james</td>\n",
              "      <td>jeslser</td>\n",
              "      <td>howe crescent</td>\n",
              "      <td>st clair</td>\n",
              "      <td>vic</td>\n",
              "      <td>19120111</td>\n",
              "    </tr>\n",
              "    <tr>\n",
              "      <th>249998</th>\n",
              "      <td>0</td>\n",
              "      <td>mitchell</td>\n",
              "      <td>berry</td>\n",
              "      <td>braine street</td>\n",
              "      <td>smithfield</td>\n",
              "      <td>nsw</td>\n",
              "      <td>19400503</td>\n",
              "      <td>emiily</td>\n",
              "      <td>coleman</td>\n",
              "      <td>chewings street</td>\n",
              "      <td>wellington point</td>\n",
              "      <td>nsw</td>\n",
              "      <td>19421221</td>\n",
              "    </tr>\n",
              "    <tr>\n",
              "      <th>249999</th>\n",
              "      <td>1</td>\n",
              "      <td>mitchell</td>\n",
              "      <td>berry</td>\n",
              "      <td>braine street</td>\n",
              "      <td>smithfield</td>\n",
              "      <td>nsw</td>\n",
              "      <td>19400503</td>\n",
              "      <td>mitchell</td>\n",
              "      <td>berry</td>\n",
              "      <td>braine treet</td>\n",
              "      <td>smithfield</td>\n",
              "      <td>nsw</td>\n",
              "      <td>19400503</td>\n",
              "    </tr>\n",
              "  </tbody>\n",
              "</table>\n",
              "<p>250000 rows × 13 columns</p>\n",
              "</div>"
            ],
            "text/plain": [
              "        label left_given_name  ... right_state right_date_of_birth\n",
              "0           1         jamilla  ...          wa            19081209\n",
              "1           0         jamilla  ...         qld            19990219\n",
              "2           0         jamilla  ...         vic            19600210\n",
              "3           0         jamilla  ...         nsw            19150612\n",
              "4           0         jamilla  ...         vic            19831024\n",
              "...       ...             ...  ...         ...                 ...\n",
              "249995      0        mitchell  ...         vic            19080503\n",
              "249996      0        mitchell  ...         vic                 NaN\n",
              "249997      0        mitchell  ...         vic            19120111\n",
              "249998      0        mitchell  ...         nsw            19421221\n",
              "249999      1        mitchell  ...         nsw            19400503\n",
              "\n",
              "[250000 rows x 13 columns]"
            ]
          },
          "metadata": {
            "tags": []
          },
          "execution_count": 18
        }
      ]
    },
    {
      "cell_type": "code",
      "metadata": {
        "colab_type": "code",
        "id": "4UcUuVpg2J7a",
        "colab": {}
      },
      "source": [
        "final_df = final_df.sample(frac=1).reset_index(drop=True)"
      ],
      "execution_count": null,
      "outputs": []
    },
    {
      "cell_type": "code",
      "metadata": {
        "colab_type": "code",
        "id": "1dA0Jn6Q0KKY",
        "colab": {}
      },
      "source": [
        "import numpy as np\n",
        "final_df = final_df[0:25000]\n",
        "train,validate,test = np.split(final_df, [int(.8 * len(final_df)), int(.9 * len(final_df))])"
      ],
      "execution_count": null,
      "outputs": []
    },
    {
      "cell_type": "code",
      "metadata": {
        "colab_type": "code",
        "id": "IVoWS4Wa0YOX",
        "colab": {
          "base_uri": "https://localhost:8080/",
          "height": 122
        },
        "outputId": "911cda04-c3f6-46ec-fc90-7a3c397a417c"
      },
      "source": [
        "from google.colab import drive\n",
        "drive.mount('/drive')"
      ],
      "execution_count": null,
      "outputs": [
        {
          "output_type": "stream",
          "text": [
            "Go to this URL in a browser: https://accounts.google.com/o/oauth2/auth?client_id=947318989803-6bn6qk8qdgf4n4g3pfee6491hc0brc4i.apps.googleusercontent.com&redirect_uri=urn%3aietf%3awg%3aoauth%3a2.0%3aoob&scope=email%20https%3a%2f%2fwww.googleapis.com%2fauth%2fdocs.test%20https%3a%2f%2fwww.googleapis.com%2fauth%2fdrive%20https%3a%2f%2fwww.googleapis.com%2fauth%2fdrive.photos.readonly%20https%3a%2f%2fwww.googleapis.com%2fauth%2fpeopleapi.readonly&response_type=code\n",
            "\n",
            "Enter your authorization code:\n",
            "··········\n",
            "Mounted at /drive\n"
          ],
          "name": "stdout"
        }
      ]
    },
    {
      "cell_type": "code",
      "metadata": {
        "colab_type": "code",
        "id": "K_9TzZGl2pJq",
        "colab": {}
      },
      "source": [
        "train_file = '/drive/My Drive/EntityMatching/train.csv'\n",
        "validate_file = '/drive/My Drive/EntityMatching/validate.csv'\n",
        "test_file = '/drive/My Drive/EntityMatching/test.csv'\n",
        "train.to_csv(train_file)\n",
        "validate.to_csv(validate_file)\n",
        "test.to_csv(test_file)"
      ],
      "execution_count": null,
      "outputs": []
    },
    {
      "cell_type": "code",
      "metadata": {
        "colab_type": "code",
        "id": "lLx6c18ozfQv",
        "colab": {
          "base_uri": "https://localhost:8080/",
          "height": 340
        },
        "outputId": "b012b53d-3059-4f90-859a-ac8a469eaf99"
      },
      "source": [
        "processed_train, processed_validate, processed_test = dm.data.process(path='.', train=train_file, validation=validate_file, test=test_file,ignore_columns=(''), left_prefix='left_',right_prefix='right_',label_attr='label',id_attr='id')"
      ],
      "execution_count": null,
      "outputs": [
        {
          "output_type": "stream",
          "text": [
            "\n",
            "Reading and processing data from \"/drive/My Drive/EntityMatching/train.csv\"\n",
            "0% [##############################] 100% | ETA: 00:00:00\n",
            "Reading and processing data from \"/drive/My Drive/EntityMatching/validate.csv\"\n",
            "0% [############################# ] 100% | ETA: 00:00:00\n",
            "Reading and processing data from \"/drive/My Drive/EntityMatching/test.csv\"\n",
            "0% [############################# ] 100% | ETA: 00:00:00INFO:deepmatcher.data.field:Downloading vectors from https://drive.google.com/uc?export=download&id=1Vih8gAmgBnuYDxfblbT94P6WjB7s1ZSh\n"
          ],
          "name": "stderr"
        },
        {
          "output_type": "stream",
          "text": [
            "downloading from Google Drive; may take a few minutes\n"
          ],
          "name": "stdout"
        },
        {
          "output_type": "stream",
          "text": [
            "wiki.en.bin: 8.49GB [03:07, 45.2MB/s]\n",
            "INFO:deepmatcher.data.field:Extracting vectors into /root/.vector_cache\n",
            "Warning : `load_model` does not return WordVectorModel or SupervisedModel any more, but a `FastText` object which is very similar.\n",
            "\n",
            "Building vocabulary\n",
            "0% [####################] 100% | ETA: 00:00:00\n",
            "Total time elapsed: 00:00:01\n",
            "\n",
            "Computing principal components\n",
            "0% [####################] 100% | ETA: 00:00:00\n",
            "Total time elapsed: 00:00:06\n"
          ],
          "name": "stderr"
        }
      ]
    },
    {
      "cell_type": "code",
      "metadata": {
        "colab_type": "code",
        "id": "1gPtjM0R7QzO",
        "colab": {
          "base_uri": "https://localhost:8080/",
          "height": 447
        },
        "outputId": "e4c73eb5-69b4-4e02-dcef-1e9cb2918574"
      },
      "source": [
        "train_table = processed_train.get_raw_table()\n",
        "train_table.head(10)"
      ],
      "execution_count": null,
      "outputs": [
        {
          "output_type": "execute_result",
          "data": {
            "text/html": [
              "<div>\n",
              "<style scoped>\n",
              "    .dataframe tbody tr th:only-of-type {\n",
              "        vertical-align: middle;\n",
              "    }\n",
              "\n",
              "    .dataframe tbody tr th {\n",
              "        vertical-align: top;\n",
              "    }\n",
              "\n",
              "    .dataframe thead th {\n",
              "        text-align: right;\n",
              "    }\n",
              "</style>\n",
              "<table border=\"1\" class=\"dataframe\">\n",
              "  <thead>\n",
              "    <tr style=\"text-align: right;\">\n",
              "      <th></th>\n",
              "      <th>label</th>\n",
              "      <th>left_given_name</th>\n",
              "      <th>left_surname</th>\n",
              "      <th>left_address_1</th>\n",
              "      <th>left_suburb</th>\n",
              "      <th>left_state</th>\n",
              "      <th>left_date_of_birth</th>\n",
              "      <th>right_given_name</th>\n",
              "      <th>right_surname</th>\n",
              "      <th>right_address_1</th>\n",
              "      <th>right_suburb</th>\n",
              "      <th>right_state</th>\n",
              "      <th>right_date_of_birth</th>\n",
              "    </tr>\n",
              "  </thead>\n",
              "  <tbody>\n",
              "    <tr>\n",
              "      <th>0</th>\n",
              "      <td>0</td>\n",
              "      <td>stephanie</td>\n",
              "      <td>geu</td>\n",
              "      <td>bainton crescent</td>\n",
              "      <td>maryborough</td>\n",
              "      <td>sa</td>\n",
              "      <td>19421008</td>\n",
              "      <td>alia</td>\n",
              "      <td>streich</td>\n",
              "      <td>maranoa street</td>\n",
              "      <td>rowville</td>\n",
              "      <td>vic</td>\n",
              "      <td>19790418</td>\n",
              "    </tr>\n",
              "    <tr>\n",
              "      <th>1</th>\n",
              "      <td>0</td>\n",
              "      <td>lauren</td>\n",
              "      <td>beattie</td>\n",
              "      <td>rubbo cre scent</td>\n",
              "      <td>stanmore</td>\n",
              "      <td>qld</td>\n",
              "      <td></td>\n",
              "      <td>james</td>\n",
              "      <td>blake</td>\n",
              "      <td>sturt avenue</td>\n",
              "      <td>carnegie</td>\n",
              "      <td>nsw</td>\n",
              "      <td>19050716</td>\n",
              "    </tr>\n",
              "    <tr>\n",
              "      <th>2</th>\n",
              "      <td>0</td>\n",
              "      <td>jade</td>\n",
              "      <td>paine</td>\n",
              "      <td>rose scott circuit</td>\n",
              "      <td>taringa</td>\n",
              "      <td>nsw</td>\n",
              "      <td>19191105</td>\n",
              "      <td>hudson</td>\n",
              "      <td>gailis</td>\n",
              "      <td>a'beckett street</td>\n",
              "      <td>cooks hill</td>\n",
              "      <td>act</td>\n",
              "      <td>19500629</td>\n",
              "    </tr>\n",
              "    <tr>\n",
              "      <th>3</th>\n",
              "      <td>0</td>\n",
              "      <td>caleb</td>\n",
              "      <td>radic</td>\n",
              "      <td>moon place</td>\n",
              "      <td>south perth</td>\n",
              "      <td>nsw</td>\n",
              "      <td>19471021</td>\n",
              "      <td>kirrah</td>\n",
              "      <td>mccarthy</td>\n",
              "      <td>laseron place</td>\n",
              "      <td>winmalee</td>\n",
              "      <td>wa</td>\n",
              "      <td>19400306</td>\n",
              "    </tr>\n",
              "    <tr>\n",
              "      <th>4</th>\n",
              "      <td>0</td>\n",
              "      <td>alex</td>\n",
              "      <td>griffen</td>\n",
              "      <td>lambertm street</td>\n",
              "      <td>kilsyth</td>\n",
              "      <td>vic</td>\n",
              "      <td>19381213</td>\n",
              "      <td>emiily</td>\n",
              "      <td>george</td>\n",
              "      <td>barnett close</td>\n",
              "      <td>modnury</td>\n",
              "      <td></td>\n",
              "      <td>19861104</td>\n",
              "    </tr>\n",
              "    <tr>\n",
              "      <th>5</th>\n",
              "      <td>0</td>\n",
              "      <td>daniel</td>\n",
              "      <td>burleigh</td>\n",
              "      <td>milford street</td>\n",
              "      <td>maroota south</td>\n",
              "      <td>sa</td>\n",
              "      <td>19010517</td>\n",
              "      <td>laura</td>\n",
              "      <td>stubbs</td>\n",
              "      <td>eyre street</td>\n",
              "      <td></td>\n",
              "      <td>qld</td>\n",
              "      <td>19621222</td>\n",
              "    </tr>\n",
              "    <tr>\n",
              "      <th>6</th>\n",
              "      <td>0</td>\n",
              "      <td>chelsea</td>\n",
              "      <td>hanigan</td>\n",
              "      <td>mcmillan crescent</td>\n",
              "      <td>fullarton</td>\n",
              "      <td>nsw</td>\n",
              "      <td>19960122</td>\n",
              "      <td>india</td>\n",
              "      <td>negrean</td>\n",
              "      <td>barringer street</td>\n",
              "      <td>parkinson</td>\n",
              "      <td>nsw</td>\n",
              "      <td>19860923</td>\n",
              "    </tr>\n",
              "    <tr>\n",
              "      <th>7</th>\n",
              "      <td>0</td>\n",
              "      <td>jad</td>\n",
              "      <td>gildrea</td>\n",
              "      <td>mccawley street</td>\n",
              "      <td>malvern</td>\n",
              "      <td>qld</td>\n",
              "      <td>19440429</td>\n",
              "      <td>adam</td>\n",
              "      <td>perl</td>\n",
              "      <td>shean place</td>\n",
              "      <td>glengarry</td>\n",
              "      <td>vic</td>\n",
              "      <td>19330624</td>\n",
              "    </tr>\n",
              "    <tr>\n",
              "      <th>8</th>\n",
              "      <td>0</td>\n",
              "      <td>morclm</td>\n",
              "      <td>thomas</td>\n",
              "      <td>alexandria street</td>\n",
              "      <td>vermont south</td>\n",
              "      <td>vic</td>\n",
              "      <td>19800706</td>\n",
              "      <td>kyle</td>\n",
              "      <td>glass</td>\n",
              "      <td>wyselaskie circuit</td>\n",
              "      <td>wyong</td>\n",
              "      <td>nsw</td>\n",
              "      <td>19241221</td>\n",
              "    </tr>\n",
              "    <tr>\n",
              "      <th>9</th>\n",
              "      <td>0</td>\n",
              "      <td>claire</td>\n",
              "      <td>priebe</td>\n",
              "      <td>stacy street</td>\n",
              "      <td>clarence park</td>\n",
              "      <td>vic</td>\n",
              "      <td>19900203</td>\n",
              "      <td></td>\n",
              "      <td>weller</td>\n",
              "      <td>wittenoom gcrescent</td>\n",
              "      <td>ashford</td>\n",
              "      <td>qld</td>\n",
              "      <td></td>\n",
              "    </tr>\n",
              "  </tbody>\n",
              "</table>\n",
              "</div>"
            ],
            "text/plain": [
              "   label left_given_name  ... right_state right_date_of_birth\n",
              "0      0       stephanie  ...         vic            19790418\n",
              "1      0          lauren  ...         nsw            19050716\n",
              "2      0            jade  ...         act            19500629\n",
              "3      0           caleb  ...          wa            19400306\n",
              "4      0            alex  ...                        19861104\n",
              "5      0          daniel  ...         qld            19621222\n",
              "6      0         chelsea  ...         nsw            19860923\n",
              "7      0             jad  ...         vic            19330624\n",
              "8      0          morclm  ...         nsw            19241221\n",
              "9      0          claire  ...         qld                    \n",
              "\n",
              "[10 rows x 13 columns]"
            ]
          },
          "metadata": {
            "tags": []
          },
          "execution_count": 26
        }
      ]
    },
    {
      "cell_type": "markdown",
      "metadata": {
        "colab_type": "text",
        "id": "loUUCH-X5jh_"
      },
      "source": [
        "# New Section"
      ]
    },
    {
      "cell_type": "code",
      "metadata": {
        "colab_type": "code",
        "id": "0E5laZCV9wCr",
        "colab": {}
      },
      "source": [
        "model = dm.MatchingModel(attr_summarizer='hybrid')"
      ],
      "execution_count": null,
      "outputs": []
    },
    {
      "cell_type": "code",
      "metadata": {
        "colab_type": "code",
        "id": "tgLv5_Wi91Eq",
        "colab": {
          "base_uri": "https://localhost:8080/",
          "height": 1000
        },
        "outputId": "e785e372-36ac-49ac-e873-66db67a76bcc"
      },
      "source": [
        "model.run_train(\n",
        "    processed_train,\n",
        "    processed_validate,\n",
        "    epochs=10,\n",
        "    batch_size=16,\n",
        "    best_save_path='hybrid_model.pth',\n",
        "    pos_neg_ratio=3)"
      ],
      "execution_count": null,
      "outputs": [
        {
          "output_type": "stream",
          "text": [
            "* Number of trainable parameters: 13363808\n",
            "===>  TRAIN Epoch 1\n"
          ],
          "name": "stdout"
        },
        {
          "output_type": "stream",
          "text": [
            "/usr/local/lib/python3.6/dist-packages/torch/nn/functional.py:2352: UserWarning: reduction: 'mean' divides the total loss by both the batch size and the support size.'batchmean' divides only by the batch size, and aligns with the KL div math definition.'mean' will be changed to behave the same as 'batchmean' in the next major release.\n",
            "  warnings.warn(\"reduction: 'mean' divides the total loss by both the batch size and the support size.\"\n",
            "0% [██████████████████████████████] 100% | ETA: 00:00:00\n",
            "Total time elapsed: 00:05:39\n"
          ],
          "name": "stderr"
        },
        {
          "output_type": "stream",
          "text": [
            "Finished Epoch 1 || Run Time:  316.1 | Load Time:   24.0 || F1:  29.09 | Prec:  61.54 | Rec:  19.05 || Ex/s:  58.80\n",
            "\n",
            "===>  EVAL Epoch 1\n"
          ],
          "name": "stdout"
        },
        {
          "output_type": "stream",
          "text": [
            "0% [██████████████████████████████] 100% | ETA: 00:00:00\n",
            "Total time elapsed: 00:00:21\n"
          ],
          "name": "stderr"
        },
        {
          "output_type": "stream",
          "text": [
            "Finished Epoch 1 || Run Time:   18.6 | Load Time:    3.1 || F1:  33.33 | Prec: 100.00 | Rec:  20.00 || Ex/s: 114.79\n",
            "\n",
            "* Best F1: tensor(33.3333, device='cuda:0')\n",
            "Saving best model...\n",
            "Done.\n",
            "---------------------\n",
            "\n",
            "===>  TRAIN Epoch 2\n"
          ],
          "name": "stdout"
        },
        {
          "output_type": "stream",
          "text": [
            "0% [██████████████████████████████] 100% | ETA: 00:00:00\n",
            "Total time elapsed: 00:05:44\n"
          ],
          "name": "stderr"
        },
        {
          "output_type": "stream",
          "text": [
            "Finished Epoch 2 || Run Time:  321.0 | Load Time:   24.1 || F1:  82.67 | Prec:  93.94 | Rec:  73.81 || Ex/s:  57.97\n",
            "\n",
            "===>  EVAL Epoch 2\n"
          ],
          "name": "stdout"
        },
        {
          "output_type": "stream",
          "text": [
            "0% [██████████████████████████████] 100% | ETA: 00:00:00\n",
            "Total time elapsed: 00:00:21\n"
          ],
          "name": "stderr"
        },
        {
          "output_type": "stream",
          "text": [
            "Finished Epoch 2 || Run Time:   18.6 | Load Time:    3.1 || F1:  75.00 | Prec: 100.00 | Rec:  60.00 || Ex/s: 115.23\n",
            "\n",
            "* Best F1: tensor(75., device='cuda:0')\n",
            "Saving best model...\n",
            "Done.\n",
            "---------------------\n",
            "\n",
            "===>  TRAIN Epoch 3\n"
          ],
          "name": "stdout"
        },
        {
          "output_type": "stream",
          "text": [
            "0% [██████████████████████████████] 100% | ETA: 00:00:00\n",
            "Total time elapsed: 00:05:43\n"
          ],
          "name": "stderr"
        },
        {
          "output_type": "stream",
          "text": [
            "Finished Epoch 3 || Run Time:  319.7 | Load Time:   24.0 || F1:  91.14 | Prec:  97.30 | Rec:  85.71 || Ex/s:  58.18\n",
            "\n",
            "===>  EVAL Epoch 3\n"
          ],
          "name": "stdout"
        },
        {
          "output_type": "stream",
          "text": [
            "0% [██████████████████████████████] 100% | ETA: 00:00:00\n",
            "Total time elapsed: 00:00:21\n"
          ],
          "name": "stderr"
        },
        {
          "output_type": "stream",
          "text": [
            "Finished Epoch 3 || Run Time:   18.6 | Load Time:    3.1 || F1:  75.00 | Prec: 100.00 | Rec:  60.00 || Ex/s: 115.08\n",
            "\n",
            "---------------------\n",
            "\n",
            "===>  TRAIN Epoch 4\n"
          ],
          "name": "stdout"
        },
        {
          "output_type": "stream",
          "text": [
            "0% [██████████████████████████████] 100% | ETA: 00:00:00\n",
            "Total time elapsed: 00:05:44\n"
          ],
          "name": "stderr"
        },
        {
          "output_type": "stream",
          "text": [
            "Finished Epoch 4 || Run Time:  320.6 | Load Time:   24.0 || F1:  93.67 | Prec: 100.00 | Rec:  88.10 || Ex/s:  58.03\n",
            "\n",
            "===>  EVAL Epoch 4\n"
          ],
          "name": "stdout"
        },
        {
          "output_type": "stream",
          "text": [
            "0% [██████████████████████████████] 100% | ETA: 00:00:00\n",
            "Total time elapsed: 00:00:21\n"
          ],
          "name": "stderr"
        },
        {
          "output_type": "stream",
          "text": [
            "Finished Epoch 4 || Run Time:   18.8 | Load Time:    3.2 || F1:  75.00 | Prec: 100.00 | Rec:  60.00 || Ex/s: 113.82\n",
            "\n",
            "---------------------\n",
            "\n",
            "===>  TRAIN Epoch 5\n"
          ],
          "name": "stdout"
        },
        {
          "output_type": "stream",
          "text": [
            "0% [██████████████████████████████] 100% | ETA: 00:00:00\n",
            "Total time elapsed: 00:05:42\n"
          ],
          "name": "stderr"
        },
        {
          "output_type": "stream",
          "text": [
            "Finished Epoch 5 || Run Time:  318.7 | Load Time:   23.9 || F1:  95.24 | Prec:  95.24 | Rec:  95.24 || Ex/s:  58.38\n",
            "\n",
            "===>  EVAL Epoch 5\n"
          ],
          "name": "stdout"
        },
        {
          "output_type": "stream",
          "text": [
            "0% [██████████████████████████████] 100% | ETA: 00:00:00\n",
            "Total time elapsed: 00:00:21\n"
          ],
          "name": "stderr"
        },
        {
          "output_type": "stream",
          "text": [
            "Finished Epoch 5 || Run Time:   18.4 | Load Time:    3.1 || F1: 100.00 | Prec: 100.00 | Rec: 100.00 || Ex/s: 116.15\n",
            "\n",
            "* Best F1: tensor(100., device='cuda:0')\n",
            "Saving best model...\n",
            "Done.\n",
            "---------------------\n",
            "\n",
            "===>  TRAIN Epoch 6\n"
          ],
          "name": "stdout"
        },
        {
          "output_type": "stream",
          "text": [
            "0% [██████████████████████████████] 100% | ETA: 00:00:00\n",
            "Total time elapsed: 00:05:39\n"
          ],
          "name": "stderr"
        },
        {
          "output_type": "stream",
          "text": [
            "Finished Epoch 6 || Run Time:  315.9 | Load Time:   23.9 || F1:  97.62 | Prec:  97.62 | Rec:  97.62 || Ex/s:  58.86\n",
            "\n",
            "===>  EVAL Epoch 6\n"
          ],
          "name": "stdout"
        },
        {
          "output_type": "stream",
          "text": [
            "0% [██████████████████████████████] 100% | ETA: 00:00:00\n",
            "Total time elapsed: 00:00:21\n"
          ],
          "name": "stderr"
        },
        {
          "output_type": "stream",
          "text": [
            "Finished Epoch 6 || Run Time:   18.6 | Load Time:    3.2 || F1:  88.89 | Prec: 100.00 | Rec:  80.00 || Ex/s: 114.88\n",
            "\n",
            "---------------------\n",
            "\n",
            "===>  TRAIN Epoch 7\n"
          ],
          "name": "stdout"
        },
        {
          "output_type": "stream",
          "text": [
            "0% [██████████████████████████████] 100% | ETA: 00:00:00\n",
            "Total time elapsed: 00:05:45\n"
          ],
          "name": "stderr"
        },
        {
          "output_type": "stream",
          "text": [
            "Finished Epoch 7 || Run Time:  321.3 | Load Time:   24.1 || F1:  97.62 | Prec:  97.62 | Rec:  97.62 || Ex/s:  57.91\n",
            "\n",
            "===>  EVAL Epoch 7\n"
          ],
          "name": "stdout"
        },
        {
          "output_type": "stream",
          "text": [
            "0% [██████████████████████████████] 100% | ETA: 00:00:00\n",
            "Total time elapsed: 00:00:21\n"
          ],
          "name": "stderr"
        },
        {
          "output_type": "stream",
          "text": [
            "Finished Epoch 7 || Run Time:   18.6 | Load Time:    3.2 || F1:  88.89 | Prec: 100.00 | Rec:  80.00 || Ex/s: 114.60\n",
            "\n",
            "---------------------\n",
            "\n",
            "===>  TRAIN Epoch 8\n"
          ],
          "name": "stdout"
        },
        {
          "output_type": "stream",
          "text": [
            "0% [██████████████████████████████] 100% | ETA: 00:00:00\n",
            "Total time elapsed: 00:05:42\n"
          ],
          "name": "stderr"
        },
        {
          "output_type": "stream",
          "text": [
            "Finished Epoch 8 || Run Time:  319.0 | Load Time:   24.0 || F1: 100.00 | Prec: 100.00 | Rec: 100.00 || Ex/s:  58.32\n",
            "\n",
            "===>  EVAL Epoch 8\n"
          ],
          "name": "stdout"
        },
        {
          "output_type": "stream",
          "text": [
            "0% [██████████████████████████████] 100% | ETA: 00:00:00\n",
            "Total time elapsed: 00:00:21\n"
          ],
          "name": "stderr"
        },
        {
          "output_type": "stream",
          "text": [
            "Finished Epoch 8 || Run Time:   18.7 | Load Time:    3.1 || F1:  88.89 | Prec: 100.00 | Rec:  80.00 || Ex/s: 114.40\n",
            "\n",
            "---------------------\n",
            "\n",
            "===>  TRAIN Epoch 9\n"
          ],
          "name": "stdout"
        },
        {
          "output_type": "stream",
          "text": [
            "0% [██████████████████████████████] 100% | ETA: 00:00:00\n",
            "Total time elapsed: 00:05:45\n"
          ],
          "name": "stderr"
        },
        {
          "output_type": "stream",
          "text": [
            "Finished Epoch 9 || Run Time:  321.6 | Load Time:   24.2 || F1: 100.00 | Prec: 100.00 | Rec: 100.00 || Ex/s:  57.84\n",
            "\n",
            "===>  EVAL Epoch 9\n"
          ],
          "name": "stdout"
        },
        {
          "output_type": "stream",
          "text": [
            "0% [██████████████████████████████] 100% | ETA: 00:00:00\n",
            "Total time elapsed: 00:00:21\n"
          ],
          "name": "stderr"
        },
        {
          "output_type": "stream",
          "text": [
            "Finished Epoch 9 || Run Time:   18.5 | Load Time:    3.1 || F1:  75.00 | Prec: 100.00 | Rec:  60.00 || Ex/s: 115.31\n",
            "\n",
            "---------------------\n",
            "\n",
            "===>  TRAIN Epoch 10\n"
          ],
          "name": "stdout"
        },
        {
          "output_type": "stream",
          "text": [
            "0% [██████████████████████████████] 100% | ETA: 00:00:00\n",
            "Total time elapsed: 00:05:46\n"
          ],
          "name": "stderr"
        },
        {
          "output_type": "stream",
          "text": [
            "Finished Epoch 10 || Run Time:  322.8 | Load Time:   24.2 || F1: 100.00 | Prec: 100.00 | Rec: 100.00 || Ex/s:  57.63\n",
            "\n",
            "===>  EVAL Epoch 10\n"
          ],
          "name": "stdout"
        },
        {
          "output_type": "stream",
          "text": [
            "0% [██████████████████████████████] 100% | ETA: 00:00:00\n",
            "Total time elapsed: 00:00:21\n"
          ],
          "name": "stderr"
        },
        {
          "output_type": "stream",
          "text": [
            "Finished Epoch 10 || Run Time:   18.5 | Load Time:    3.1 || F1:  88.89 | Prec: 100.00 | Rec:  80.00 || Ex/s: 115.57\n",
            "\n",
            "---------------------\n",
            "\n",
            "Loading best model...\n",
            "Training done.\n"
          ],
          "name": "stdout"
        },
        {
          "output_type": "execute_result",
          "data": {
            "text/plain": [
              "tensor(100., device='cuda:0')"
            ]
          },
          "metadata": {
            "tags": []
          },
          "execution_count": 29
        }
      ]
    },
    {
      "cell_type": "code",
      "metadata": {
        "colab_type": "code",
        "id": "6MUgexIJ31UP",
        "colab": {
          "base_uri": "https://localhost:8080/",
          "height": 119
        },
        "outputId": "4b24b70b-e94e-49ef-fbdb-6c440bc0f752"
      },
      "source": [
        "model.run_eval(processed_test)"
      ],
      "execution_count": null,
      "outputs": [
        {
          "output_type": "stream",
          "text": [
            "===>  EVAL Epoch 5\n"
          ],
          "name": "stdout"
        },
        {
          "output_type": "stream",
          "text": [
            "0% [███████████████] 100% | ETA: 00:00:00\n",
            "Total time elapsed: 00:00:11\n"
          ],
          "name": "stderr"
        },
        {
          "output_type": "stream",
          "text": [
            "Finished Epoch 5 || Run Time:    9.4 | Load Time:    2.8 || F1:  93.33 | Prec: 100.00 | Rec:  87.50 || Ex/s: 204.30\n",
            "\n"
          ],
          "name": "stdout"
        },
        {
          "output_type": "execute_result",
          "data": {
            "text/plain": [
              "tensor(93.3333, device='cuda:0')"
            ]
          },
          "metadata": {
            "tags": []
          },
          "execution_count": 30
        }
      ]
    },
    {
      "cell_type": "code",
      "metadata": {
        "id": "FwA-feUUh2tK",
        "colab_type": "code",
        "colab": {
          "base_uri": "https://localhost:8080/",
          "height": 34
        },
        "outputId": "13672579-f865-45db-ccfb-70f9d594a3fb"
      },
      "source": [
        "# Comparison for recordlinkage methods\n",
        "compare_cl = recordlinkage.Compare()\n",
        "compare_cl.exact('given_name', 'given_name', label='given_name')\n",
        "compare_cl.string('surname', 'surname', method='jarowinkler', threshold=0.85, label='surname')\n",
        "compare_cl.exact('date_of_birth', 'date_of_birth', label='date_of_birth')\n",
        "compare_cl.exact('suburb', 'suburb', label='suburb')\n",
        "compare_cl.exact('state', 'state', label='state')\n",
        "compare_cl.string('address_1', 'address_1', threshold=0.85, label='address_1')"
      ],
      "execution_count": null,
      "outputs": [
        {
          "output_type": "execute_result",
          "data": {
            "text/plain": [
              "<Compare>"
            ]
          },
          "metadata": {
            "tags": []
          },
          "execution_count": 31
        }
      ]
    },
    {
      "cell_type": "code",
      "metadata": {
        "id": "_p4KlUnDh2tN",
        "colab_type": "code",
        "colab": {}
      },
      "source": [
        "# Load data\n",
        "true_links = {}\n",
        "features = {}\n",
        "validation = {}\n",
        "datasets= {'train':train_file, \n",
        "'test':test_file,\n",
        "'validation':validate_file}\n",
        "\n",
        "for key in datasets:\n",
        "    df = pd.read_csv(datasets[key])\n",
        "    nof_cols = int((df.shape[1] - 2)/2)\n",
        "    dfA = df.iloc[:,2:nof_cols + 2]\n",
        "    dfB = df.iloc[:,nof_cols + 2:df.shape[1]]\n",
        "    dfA.rename(columns={c:c[5:] for c in dfA.columns },inplace=True)\n",
        "    dfB.rename(columns={c:c[6:] for c in dfB.columns },inplace=True)\n",
        "\n",
        "    tuples = [(i,i) for i in range(len(df)) if df.iloc[i]['label'] == 1]\n",
        "    true_links[key] = pd.MultiIndex.from_tuples(tuples)\n",
        "\n",
        "    tuples_full = [(i,i) for i in range(len(df))]\n",
        "    candidate_links = pd.MultiIndex.from_tuples(tuples_full)\n",
        "    # Final features (used in all methods)\n",
        "    features[key] = compare_cl.compute(candidate_links, dfA, dfB)"
      ],
      "execution_count": null,
      "outputs": []
    },
    {
      "cell_type": "code",
      "metadata": {
        "id": "hbh4JjmRh2tQ",
        "colab_type": "code",
        "colab": {}
      },
      "source": [
        "# Some helper functions\n",
        "def print_results(name, table):\n",
        "    print(\"\".join(['*' for x in range(len(name) + 1)]))\n",
        "    print('{}'.format(name))\n",
        "    print(\"\".join(['*' for x in range(len(name) + 1)]))\n",
        "    print(\"Confusion matrix:\")\n",
        "    print(table['confusion_matrix'])\n",
        "    print(\"Accuracy: {}\".format(table['accuracy']))\n",
        "    print(\"Precision: {}\".format(table['precision']))\n",
        "    print(\"Recall: {}\".format(table['recall']))\n",
        "    print(\"F-score: {}\".format(table['f-score']))\n",
        "    print('\\n')\n",
        "    \n",
        "def performance_metrics(true_links, result, set_size):\n",
        "    validation = {}\n",
        "    validation['confusion_matrix'] = recordlinkage.confusion_matrix(true_links, result, set_size)\n",
        "    validation['accuracy'] = recordlinkage.accuracy(true_links, result, len(features['validation']))\n",
        "    validation['precision'] = recordlinkage.precision(true_links, result)\n",
        "    validation['recall'] = recordlinkage.recall(true_links, result)\n",
        "    validation['f-score'] = recordlinkage.fscore(true_links, result)\n",
        "    return validation"
      ],
      "execution_count": null,
      "outputs": []
    },
    {
      "cell_type": "code",
      "metadata": {
        "id": "rRKowKl8h2tU",
        "colab_type": "code",
        "colab": {
          "base_uri": "https://localhost:8080/",
          "height": 1000
        },
        "outputId": "45453e9b-53ca-46d0-d9b3-c75bf439f78b"
      },
      "source": [
        "# Train and validate various classifiers\n",
        "classifiers= {\n",
        "'Hand-tuned':None,\n",
        "'Logistic regression':recordlinkage.LogisticRegressionClassifier(),\n",
        "'Naive Bayes': recordlinkage.NaiveBayesClassifier(),\n",
        "'Support vector machine': recordlinkage.SVMClassifier(),\n",
        "'K-means': recordlinkage.KMeansClassifier(),\n",
        "'ECM': recordlinkage.ECMClassifier()}\n",
        "\n",
        "for key in classifiers:\n",
        "    validation[key] = {}\n",
        "    if key == 'Hand-tuned':\n",
        "        # Immediate prediction\n",
        "        result = features['validation'][features['validation'].sum(axis=1) > 3].index\n",
        "    else:\n",
        "        # Training \n",
        "        if key == 'ECM':\n",
        "            classifiers[key].fit(features['train']) # somehow ECM cannot ignore redundant argument, opposed to K-Means\n",
        "        else:\n",
        "            classifiers[key].fit(features['train'], true_links['train'])\n",
        "        # Predict the match status for all test record pairs\n",
        "        result =  classifiers[key].predict(features['validation'])\n",
        "        \n",
        "    # Validate\n",
        "    validation[key] = performance_metrics(true_links['validation'], result, len(features['validation']))\n",
        "    \n",
        "    #Print results\n",
        "    print_results(key, validation[key])"
      ],
      "execution_count": null,
      "outputs": [
        {
          "output_type": "stream",
          "text": [
            "***********\n",
            "Hand-tuned\n",
            "***********\n",
            "Confusion matrix:\n",
            "[[   4    1]\n",
            " [   0 2495]]\n",
            "Accuracy: 0.9996\n",
            "Precision: 1.0\n",
            "Recall: 0.8\n",
            "F-score: 0.888888888888889\n",
            "\n",
            "\n",
            "********************\n",
            "Logistic regression\n",
            "********************\n",
            "Confusion matrix:\n",
            "[[   4    1]\n",
            " [   0 2495]]\n",
            "Accuracy: 0.9996\n",
            "Precision: 1.0\n",
            "Recall: 0.8\n",
            "F-score: 0.888888888888889\n",
            "\n",
            "\n",
            "************\n",
            "Naive Bayes\n",
            "************\n",
            "Confusion matrix:\n",
            "[[   5    0]\n",
            " [   0 2495]]\n",
            "Accuracy: 1.0\n",
            "Precision: 1.0\n",
            "Recall: 1.0\n",
            "F-score: 1.0\n",
            "\n",
            "\n",
            "***********************\n",
            "Support vector machine\n",
            "***********************\n",
            "Confusion matrix:\n",
            "[[   5    0]\n",
            " [   0 2495]]\n",
            "Accuracy: 1.0\n",
            "Precision: 1.0\n",
            "Recall: 1.0\n",
            "F-score: 1.0\n",
            "\n",
            "\n",
            "********\n",
            "K-means\n",
            "********\n",
            "Confusion matrix:\n",
            "[[   5    0]\n",
            " [   0 2495]]\n",
            "Accuracy: 1.0\n",
            "Precision: 1.0\n",
            "Recall: 1.0\n",
            "F-score: 1.0\n",
            "\n",
            "\n",
            "****\n",
            "ECM\n",
            "****\n",
            "Confusion matrix:\n",
            "[[   5    0]\n",
            " [   0 2495]]\n",
            "Accuracy: 1.0\n",
            "Precision: 1.0\n",
            "Recall: 1.0\n",
            "F-score: 1.0\n",
            "\n",
            "\n"
          ],
          "name": "stdout"
        }
      ]
    },
    {
      "cell_type": "code",
      "metadata": {
        "id": "dExzNzaQh2tY",
        "colab_type": "code",
        "colab": {
          "base_uri": "https://localhost:8080/",
          "height": 221
        },
        "outputId": "4768c5cc-a0ee-473c-efbc-a7b99b78574d"
      },
      "source": [
        "# Test results for best method\n",
        "f_scores = {key:validation[key]['f-score'] for key in validation}\n",
        "best_model = max(f_scores, key = f_scores.get) \n",
        "if best_model == 'Hand-tuned':\n",
        "    result = features['test'][features['test'].sum(axis=1) > 2].index\n",
        "else:\n",
        "    result = classifiers[best_model].predict(features['test'])\n",
        "test =  performance_metrics(true_links['test'], result, len(features['test']))\n",
        "print_results(\"Selected model ({}) on test set\".format(best_model), test)"
      ],
      "execution_count": null,
      "outputs": [
        {
          "output_type": "stream",
          "text": [
            "*****************************************\n",
            "Selected model (Naive Bayes) on test set\n",
            "*****************************************\n",
            "Confusion matrix:\n",
            "[[   8    0]\n",
            " [   0 2492]]\n",
            "Accuracy: 1.0\n",
            "Precision: 1.0\n",
            "Recall: 1.0\n",
            "F-score: 1.0\n",
            "\n",
            "\n"
          ],
          "name": "stdout"
        }
      ]
    },
    {
      "cell_type": "code",
      "metadata": {
        "id": "_A5-n77Zh2ta",
        "colab_type": "code",
        "colab": {}
      },
      "source": [
        ""
      ],
      "execution_count": null,
      "outputs": []
    }
  ]
}